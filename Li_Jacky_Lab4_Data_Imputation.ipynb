{
  "cells": [
    {
      "cell_type": "markdown",
      "metadata": {
        "id": "OhtOdxzd1ppr"
      },
      "source": [
        "# Lab 4: Data Imputation using an Autoencoder\n",
        "\n",
        "\n",
        "In this lab, you will build and train an autoencoder to impute (or \"fill in\") missing data.\n",
        "\n",
        "We will be using the\n",
        "Adult Data Set provided by the UCI Machine Learning Repository [1], available\n",
        "at https://archive.ics.uci.edu/ml/datasets/adult.\n",
        "The data set contains census record files of adults, including their\n",
        "age, martial status, the type of work they do, and other features.\n",
        "\n",
        "Normally, people use this data set to build a supervised classification\n",
        "model to classify whether a person is a high income earner.\n",
        "We will not use the dataset for this original intended purpose.\n",
        "\n",
        "Instead, we will perform the task of imputing (or \"filling in\") missing values in the dataset. For example,\n",
        "we may be missing one person's martial status, and another person's age, and\n",
        "a third person's level of education. Our model will predict the missing features\n",
        "based on the information that we do have about each person.\n",
        "\n",
        "We will use a variation of a denoising autoencoder to solve this data imputation\n",
        "problem. Our autoencoder will be trained using inputs that have one categorical feature artificially\n",
        "removed, and the goal of the autoencoder is to correctly reconstruct all features,\n",
        "including the one removed from the input.\n",
        "\n",
        "In the process, you are expected to learn to:\n",
        "\n",
        "1. Clean and process continuous and categorical data for machine learning.\n",
        "2. Implement an autoencoder that takes continuous and categorical (one-hot) inputs.\n",
        "3. Tune the hyperparameters of an autoencoder.\n",
        "4. Use baseline models to help interpret model performance.\n",
        "\n",
        "[1] Dua, D. and Karra Taniskidou, E. (2017). UCI Machine Learning Repository [http://archive.ics.uci.edu/ml]. Irvine, CA: University of California, School of Information and Computer Science.\n",
        "\n",
        "\n",
        "### What to submit\n",
        "\n",
        "Submit a PDF file containing all your code, outputs, and write-up. You can produce a PDF of your Google Colab file by going to File > Print and then save as PDF. The Colab instructions have more information.\n",
        "\n",
        "Do not submit any other files produced by your code.\n",
        "\n",
        "Include a link to your colab file in your submission.\n"
      ]
    },
    {
      "cell_type": "markdown",
      "metadata": {
        "id": "zbnrp2ig1pps"
      },
      "source": [
        "## Colab Link\n",
        "\n",
        "Include a link to your Colab file here. If you would like the TA to look at your\n",
        "Colab file in case your solutions are cut off, **please make sure that your Colab\n",
        "file is publicly accessible at the time of submission**.\n",
        "\n",
        "Colab Link: https://drive.google.com/file/d/1Gox4p9EyjNnjbSPYYz0Vdm1e9tdIEkn7/view?usp=sharing"
      ]
    },
    {
      "cell_type": "code",
      "execution_count": 1,
      "metadata": {
        "collapsed": true,
        "id": "z3p8N43E1ppt",
        "jupyter": {
          "outputs_hidden": true
        }
      },
      "outputs": [],
      "source": [
        "import csv\n",
        "import numpy as np\n",
        "import random\n",
        "import torch\n",
        "import torch.utils.data"
      ]
    },
    {
      "cell_type": "markdown",
      "metadata": {
        "id": "8ROwtHcz1ppx"
      },
      "source": [
        "## Part 0\n",
        "\n",
        "We will be using a package called `pandas` for this assignment.\n",
        "\n",
        "If you are using Colab, `pandas` should already be available.\n",
        "If you are using your own computer,\n",
        "installation instructions for `pandas` are available here:\n",
        "https://pandas.pydata.org/pandas-docs/stable/install.html"
      ]
    },
    {
      "cell_type": "code",
      "execution_count": 2,
      "metadata": {
        "collapsed": true,
        "id": "IXQ7BP151ppz",
        "jupyter": {
          "outputs_hidden": true
        }
      },
      "outputs": [],
      "source": [
        "import pandas as pd"
      ]
    },
    {
      "cell_type": "markdown",
      "metadata": {
        "id": "hqXihb4Q1pp2"
      },
      "source": [
        "# Part 1. Data Cleaning [15 pt]\n",
        "\n",
        "The adult.data file is available at `https://archive.ics.uci.edu/ml/machine-learning-databases/adult/adult.data`\n",
        "\n",
        "The function `pd.read_csv` loads the adult.data file into a pandas dataframe.\n",
        "You can read about the pandas documentation for `pd.read_csv` at\n",
        "https://pandas.pydata.org/pandas-docs/stable/reference/api/pandas.read_csv.html"
      ]
    },
    {
      "cell_type": "code",
      "execution_count": 3,
      "metadata": {
        "colab": {
          "base_uri": "https://localhost:8080/",
          "height": 0
        },
        "collapsed": true,
        "id": "EOMItFKn1pp3",
        "jupyter": {
          "outputs_hidden": true
        },
        "outputId": "62bd6f38-4e44-4cbb-a8f5-015b6f7b24e0"
      },
      "outputs": [
        {
          "output_type": "stream",
          "name": "stderr",
          "text": [
            "/tmp/ipython-input-3-1831985018.py:3: ParserWarning: Length of header or names does not match length of data. This leads to a loss of data with index_col=False.\n",
            "  df = pd.read_csv(\n"
          ]
        }
      ],
      "source": [
        "header = ['age', 'work', 'fnlwgt', 'edu', 'yredu', 'marriage', 'occupation',\n",
        " 'relationship', 'race', 'sex', 'capgain', 'caploss', 'workhr', 'country']\n",
        "df = pd.read_csv(\n",
        "    \"https://archive.ics.uci.edu/ml/machine-learning-databases/adult/adult.data\",\n",
        "    names=header,\n",
        "    index_col=False)"
      ]
    },
    {
      "cell_type": "code",
      "execution_count": 4,
      "metadata": {
        "colab": {
          "base_uri": "https://localhost:8080/",
          "height": 0
        },
        "id": "62Ot405q1pp5",
        "outputId": "651088c1-9773-408a-c0e7-c0ece21dcd63",
        "scrolled": true
      },
      "outputs": [
        {
          "output_type": "execute_result",
          "data": {
            "text/plain": [
              "(32561, 14)"
            ]
          },
          "metadata": {},
          "execution_count": 4
        }
      ],
      "source": [
        "df.shape # there are 32561 rows (records) in the data frame, and 14 columns (features)"
      ]
    },
    {
      "cell_type": "markdown",
      "metadata": {
        "id": "Tr7YG-QY1pp8"
      },
      "source": [
        "### Part (a) Continuous Features [3 pt]\n",
        "\n",
        "For each of the columns `[\"age\", \"yredu\", \"capgain\", \"caploss\", \"workhr\"]`, report the minimum, maximum, and average value across the dataset.\n",
        "\n",
        "Then, normalize each of the features `[\"age\", \"yredu\", \"capgain\", \"caploss\", \"workhr\"]`\n",
        "so that their values are always between 0 and 1.\n",
        "Make sure that you are actually modifying the dataframe `df`.\n",
        "\n",
        "Like numpy arrays and torch tensors,\n",
        "pandas data frames can be sliced. For example, we can\n",
        "display the first 3 rows of the data frame (3 records) below."
      ]
    },
    {
      "cell_type": "code",
      "source": [
        "df[:3] # show first 3 records"
      ],
      "metadata": {
        "colab": {
          "base_uri": "https://localhost:8080/",
          "height": 195
        },
        "id": "SOdU_HF2eDVc",
        "outputId": "a0bafbc4-27bf-4224-875e-01d81c687634"
      },
      "execution_count": 5,
      "outputs": [
        {
          "output_type": "execute_result",
          "data": {
            "text/plain": [
              "   age               work  fnlwgt         edu  yredu             marriage  \\\n",
              "0   39          State-gov   77516   Bachelors     13        Never-married   \n",
              "1   50   Self-emp-not-inc   83311   Bachelors     13   Married-civ-spouse   \n",
              "2   38            Private  215646     HS-grad      9             Divorced   \n",
              "\n",
              "           occupation    relationship    race    sex  capgain  caploss  \\\n",
              "0        Adm-clerical   Not-in-family   White   Male     2174        0   \n",
              "1     Exec-managerial         Husband   White   Male        0        0   \n",
              "2   Handlers-cleaners   Not-in-family   White   Male        0        0   \n",
              "\n",
              "   workhr         country  \n",
              "0      40   United-States  \n",
              "1      13   United-States  \n",
              "2      40   United-States  "
            ],
            "text/html": [
              "\n",
              "  <div id=\"df-55a0a33e-b9a5-4000-bce1-2c4c2a4621c2\" class=\"colab-df-container\">\n",
              "    <div>\n",
              "<style scoped>\n",
              "    .dataframe tbody tr th:only-of-type {\n",
              "        vertical-align: middle;\n",
              "    }\n",
              "\n",
              "    .dataframe tbody tr th {\n",
              "        vertical-align: top;\n",
              "    }\n",
              "\n",
              "    .dataframe thead th {\n",
              "        text-align: right;\n",
              "    }\n",
              "</style>\n",
              "<table border=\"1\" class=\"dataframe\">\n",
              "  <thead>\n",
              "    <tr style=\"text-align: right;\">\n",
              "      <th></th>\n",
              "      <th>age</th>\n",
              "      <th>work</th>\n",
              "      <th>fnlwgt</th>\n",
              "      <th>edu</th>\n",
              "      <th>yredu</th>\n",
              "      <th>marriage</th>\n",
              "      <th>occupation</th>\n",
              "      <th>relationship</th>\n",
              "      <th>race</th>\n",
              "      <th>sex</th>\n",
              "      <th>capgain</th>\n",
              "      <th>caploss</th>\n",
              "      <th>workhr</th>\n",
              "      <th>country</th>\n",
              "    </tr>\n",
              "  </thead>\n",
              "  <tbody>\n",
              "    <tr>\n",
              "      <th>0</th>\n",
              "      <td>39</td>\n",
              "      <td>State-gov</td>\n",
              "      <td>77516</td>\n",
              "      <td>Bachelors</td>\n",
              "      <td>13</td>\n",
              "      <td>Never-married</td>\n",
              "      <td>Adm-clerical</td>\n",
              "      <td>Not-in-family</td>\n",
              "      <td>White</td>\n",
              "      <td>Male</td>\n",
              "      <td>2174</td>\n",
              "      <td>0</td>\n",
              "      <td>40</td>\n",
              "      <td>United-States</td>\n",
              "    </tr>\n",
              "    <tr>\n",
              "      <th>1</th>\n",
              "      <td>50</td>\n",
              "      <td>Self-emp-not-inc</td>\n",
              "      <td>83311</td>\n",
              "      <td>Bachelors</td>\n",
              "      <td>13</td>\n",
              "      <td>Married-civ-spouse</td>\n",
              "      <td>Exec-managerial</td>\n",
              "      <td>Husband</td>\n",
              "      <td>White</td>\n",
              "      <td>Male</td>\n",
              "      <td>0</td>\n",
              "      <td>0</td>\n",
              "      <td>13</td>\n",
              "      <td>United-States</td>\n",
              "    </tr>\n",
              "    <tr>\n",
              "      <th>2</th>\n",
              "      <td>38</td>\n",
              "      <td>Private</td>\n",
              "      <td>215646</td>\n",
              "      <td>HS-grad</td>\n",
              "      <td>9</td>\n",
              "      <td>Divorced</td>\n",
              "      <td>Handlers-cleaners</td>\n",
              "      <td>Not-in-family</td>\n",
              "      <td>White</td>\n",
              "      <td>Male</td>\n",
              "      <td>0</td>\n",
              "      <td>0</td>\n",
              "      <td>40</td>\n",
              "      <td>United-States</td>\n",
              "    </tr>\n",
              "  </tbody>\n",
              "</table>\n",
              "</div>\n",
              "    <div class=\"colab-df-buttons\">\n",
              "\n",
              "  <div class=\"colab-df-container\">\n",
              "    <button class=\"colab-df-convert\" onclick=\"convertToInteractive('df-55a0a33e-b9a5-4000-bce1-2c4c2a4621c2')\"\n",
              "            title=\"Convert this dataframe to an interactive table.\"\n",
              "            style=\"display:none;\">\n",
              "\n",
              "  <svg xmlns=\"http://www.w3.org/2000/svg\" height=\"24px\" viewBox=\"0 -960 960 960\">\n",
              "    <path d=\"M120-120v-720h720v720H120Zm60-500h600v-160H180v160Zm220 220h160v-160H400v160Zm0 220h160v-160H400v160ZM180-400h160v-160H180v160Zm440 0h160v-160H620v160ZM180-180h160v-160H180v160Zm440 0h160v-160H620v160Z\"/>\n",
              "  </svg>\n",
              "    </button>\n",
              "\n",
              "  <style>\n",
              "    .colab-df-container {\n",
              "      display:flex;\n",
              "      gap: 12px;\n",
              "    }\n",
              "\n",
              "    .colab-df-convert {\n",
              "      background-color: #E8F0FE;\n",
              "      border: none;\n",
              "      border-radius: 50%;\n",
              "      cursor: pointer;\n",
              "      display: none;\n",
              "      fill: #1967D2;\n",
              "      height: 32px;\n",
              "      padding: 0 0 0 0;\n",
              "      width: 32px;\n",
              "    }\n",
              "\n",
              "    .colab-df-convert:hover {\n",
              "      background-color: #E2EBFA;\n",
              "      box-shadow: 0px 1px 2px rgba(60, 64, 67, 0.3), 0px 1px 3px 1px rgba(60, 64, 67, 0.15);\n",
              "      fill: #174EA6;\n",
              "    }\n",
              "\n",
              "    .colab-df-buttons div {\n",
              "      margin-bottom: 4px;\n",
              "    }\n",
              "\n",
              "    [theme=dark] .colab-df-convert {\n",
              "      background-color: #3B4455;\n",
              "      fill: #D2E3FC;\n",
              "    }\n",
              "\n",
              "    [theme=dark] .colab-df-convert:hover {\n",
              "      background-color: #434B5C;\n",
              "      box-shadow: 0px 1px 3px 1px rgba(0, 0, 0, 0.15);\n",
              "      filter: drop-shadow(0px 1px 2px rgba(0, 0, 0, 0.3));\n",
              "      fill: #FFFFFF;\n",
              "    }\n",
              "  </style>\n",
              "\n",
              "    <script>\n",
              "      const buttonEl =\n",
              "        document.querySelector('#df-55a0a33e-b9a5-4000-bce1-2c4c2a4621c2 button.colab-df-convert');\n",
              "      buttonEl.style.display =\n",
              "        google.colab.kernel.accessAllowed ? 'block' : 'none';\n",
              "\n",
              "      async function convertToInteractive(key) {\n",
              "        const element = document.querySelector('#df-55a0a33e-b9a5-4000-bce1-2c4c2a4621c2');\n",
              "        const dataTable =\n",
              "          await google.colab.kernel.invokeFunction('convertToInteractive',\n",
              "                                                    [key], {});\n",
              "        if (!dataTable) return;\n",
              "\n",
              "        const docLinkHtml = 'Like what you see? Visit the ' +\n",
              "          '<a target=\"_blank\" href=https://colab.research.google.com/notebooks/data_table.ipynb>data table notebook</a>'\n",
              "          + ' to learn more about interactive tables.';\n",
              "        element.innerHTML = '';\n",
              "        dataTable['output_type'] = 'display_data';\n",
              "        await google.colab.output.renderOutput(dataTable, element);\n",
              "        const docLink = document.createElement('div');\n",
              "        docLink.innerHTML = docLinkHtml;\n",
              "        element.appendChild(docLink);\n",
              "      }\n",
              "    </script>\n",
              "  </div>\n",
              "\n",
              "\n",
              "    <div id=\"df-ceab4fe5-0bab-47f7-8361-b3e0781f365f\">\n",
              "      <button class=\"colab-df-quickchart\" onclick=\"quickchart('df-ceab4fe5-0bab-47f7-8361-b3e0781f365f')\"\n",
              "                title=\"Suggest charts\"\n",
              "                style=\"display:none;\">\n",
              "\n",
              "<svg xmlns=\"http://www.w3.org/2000/svg\" height=\"24px\"viewBox=\"0 0 24 24\"\n",
              "     width=\"24px\">\n",
              "    <g>\n",
              "        <path d=\"M19 3H5c-1.1 0-2 .9-2 2v14c0 1.1.9 2 2 2h14c1.1 0 2-.9 2-2V5c0-1.1-.9-2-2-2zM9 17H7v-7h2v7zm4 0h-2V7h2v10zm4 0h-2v-4h2v4z\"/>\n",
              "    </g>\n",
              "</svg>\n",
              "      </button>\n",
              "\n",
              "<style>\n",
              "  .colab-df-quickchart {\n",
              "      --bg-color: #E8F0FE;\n",
              "      --fill-color: #1967D2;\n",
              "      --hover-bg-color: #E2EBFA;\n",
              "      --hover-fill-color: #174EA6;\n",
              "      --disabled-fill-color: #AAA;\n",
              "      --disabled-bg-color: #DDD;\n",
              "  }\n",
              "\n",
              "  [theme=dark] .colab-df-quickchart {\n",
              "      --bg-color: #3B4455;\n",
              "      --fill-color: #D2E3FC;\n",
              "      --hover-bg-color: #434B5C;\n",
              "      --hover-fill-color: #FFFFFF;\n",
              "      --disabled-bg-color: #3B4455;\n",
              "      --disabled-fill-color: #666;\n",
              "  }\n",
              "\n",
              "  .colab-df-quickchart {\n",
              "    background-color: var(--bg-color);\n",
              "    border: none;\n",
              "    border-radius: 50%;\n",
              "    cursor: pointer;\n",
              "    display: none;\n",
              "    fill: var(--fill-color);\n",
              "    height: 32px;\n",
              "    padding: 0;\n",
              "    width: 32px;\n",
              "  }\n",
              "\n",
              "  .colab-df-quickchart:hover {\n",
              "    background-color: var(--hover-bg-color);\n",
              "    box-shadow: 0 1px 2px rgba(60, 64, 67, 0.3), 0 1px 3px 1px rgba(60, 64, 67, 0.15);\n",
              "    fill: var(--button-hover-fill-color);\n",
              "  }\n",
              "\n",
              "  .colab-df-quickchart-complete:disabled,\n",
              "  .colab-df-quickchart-complete:disabled:hover {\n",
              "    background-color: var(--disabled-bg-color);\n",
              "    fill: var(--disabled-fill-color);\n",
              "    box-shadow: none;\n",
              "  }\n",
              "\n",
              "  .colab-df-spinner {\n",
              "    border: 2px solid var(--fill-color);\n",
              "    border-color: transparent;\n",
              "    border-bottom-color: var(--fill-color);\n",
              "    animation:\n",
              "      spin 1s steps(1) infinite;\n",
              "  }\n",
              "\n",
              "  @keyframes spin {\n",
              "    0% {\n",
              "      border-color: transparent;\n",
              "      border-bottom-color: var(--fill-color);\n",
              "      border-left-color: var(--fill-color);\n",
              "    }\n",
              "    20% {\n",
              "      border-color: transparent;\n",
              "      border-left-color: var(--fill-color);\n",
              "      border-top-color: var(--fill-color);\n",
              "    }\n",
              "    30% {\n",
              "      border-color: transparent;\n",
              "      border-left-color: var(--fill-color);\n",
              "      border-top-color: var(--fill-color);\n",
              "      border-right-color: var(--fill-color);\n",
              "    }\n",
              "    40% {\n",
              "      border-color: transparent;\n",
              "      border-right-color: var(--fill-color);\n",
              "      border-top-color: var(--fill-color);\n",
              "    }\n",
              "    60% {\n",
              "      border-color: transparent;\n",
              "      border-right-color: var(--fill-color);\n",
              "    }\n",
              "    80% {\n",
              "      border-color: transparent;\n",
              "      border-right-color: var(--fill-color);\n",
              "      border-bottom-color: var(--fill-color);\n",
              "    }\n",
              "    90% {\n",
              "      border-color: transparent;\n",
              "      border-bottom-color: var(--fill-color);\n",
              "    }\n",
              "  }\n",
              "</style>\n",
              "\n",
              "      <script>\n",
              "        async function quickchart(key) {\n",
              "          const quickchartButtonEl =\n",
              "            document.querySelector('#' + key + ' button');\n",
              "          quickchartButtonEl.disabled = true;  // To prevent multiple clicks.\n",
              "          quickchartButtonEl.classList.add('colab-df-spinner');\n",
              "          try {\n",
              "            const charts = await google.colab.kernel.invokeFunction(\n",
              "                'suggestCharts', [key], {});\n",
              "          } catch (error) {\n",
              "            console.error('Error during call to suggestCharts:', error);\n",
              "          }\n",
              "          quickchartButtonEl.classList.remove('colab-df-spinner');\n",
              "          quickchartButtonEl.classList.add('colab-df-quickchart-complete');\n",
              "        }\n",
              "        (() => {\n",
              "          let quickchartButtonEl =\n",
              "            document.querySelector('#df-ceab4fe5-0bab-47f7-8361-b3e0781f365f button');\n",
              "          quickchartButtonEl.style.display =\n",
              "            google.colab.kernel.accessAllowed ? 'block' : 'none';\n",
              "        })();\n",
              "      </script>\n",
              "    </div>\n",
              "\n",
              "    </div>\n",
              "  </div>\n"
            ],
            "application/vnd.google.colaboratory.intrinsic+json": {
              "type": "dataframe",
              "summary": "{\n  \"name\": \"df[:3] # show first 3 records\",\n  \"rows\": 3,\n  \"fields\": [\n    {\n      \"column\": \"age\",\n      \"properties\": {\n        \"dtype\": \"number\",\n        \"std\": 6,\n        \"min\": 38,\n        \"max\": 50,\n        \"num_unique_values\": 3,\n        \"samples\": [\n          39,\n          50,\n          38\n        ],\n        \"semantic_type\": \"\",\n        \"description\": \"\"\n      }\n    },\n    {\n      \"column\": \"work\",\n      \"properties\": {\n        \"dtype\": \"string\",\n        \"num_unique_values\": 3,\n        \"samples\": [\n          \" State-gov\",\n          \" Self-emp-not-inc\",\n          \" Private\"\n        ],\n        \"semantic_type\": \"\",\n        \"description\": \"\"\n      }\n    },\n    {\n      \"column\": \"fnlwgt\",\n      \"properties\": {\n        \"dtype\": \"number\",\n        \"std\": 78130,\n        \"min\": 77516,\n        \"max\": 215646,\n        \"num_unique_values\": 3,\n        \"samples\": [\n          77516,\n          83311,\n          215646\n        ],\n        \"semantic_type\": \"\",\n        \"description\": \"\"\n      }\n    },\n    {\n      \"column\": \"edu\",\n      \"properties\": {\n        \"dtype\": \"string\",\n        \"num_unique_values\": 2,\n        \"samples\": [\n          \" HS-grad\",\n          \" Bachelors\"\n        ],\n        \"semantic_type\": \"\",\n        \"description\": \"\"\n      }\n    },\n    {\n      \"column\": \"yredu\",\n      \"properties\": {\n        \"dtype\": \"number\",\n        \"std\": 2,\n        \"min\": 9,\n        \"max\": 13,\n        \"num_unique_values\": 2,\n        \"samples\": [\n          9,\n          13\n        ],\n        \"semantic_type\": \"\",\n        \"description\": \"\"\n      }\n    },\n    {\n      \"column\": \"marriage\",\n      \"properties\": {\n        \"dtype\": \"string\",\n        \"num_unique_values\": 3,\n        \"samples\": [\n          \" Never-married\",\n          \" Married-civ-spouse\"\n        ],\n        \"semantic_type\": \"\",\n        \"description\": \"\"\n      }\n    },\n    {\n      \"column\": \"occupation\",\n      \"properties\": {\n        \"dtype\": \"string\",\n        \"num_unique_values\": 3,\n        \"samples\": [\n          \" Adm-clerical\",\n          \" Exec-managerial\"\n        ],\n        \"semantic_type\": \"\",\n        \"description\": \"\"\n      }\n    },\n    {\n      \"column\": \"relationship\",\n      \"properties\": {\n        \"dtype\": \"string\",\n        \"num_unique_values\": 2,\n        \"samples\": [\n          \" Husband\",\n          \" Not-in-family\"\n        ],\n        \"semantic_type\": \"\",\n        \"description\": \"\"\n      }\n    },\n    {\n      \"column\": \"race\",\n      \"properties\": {\n        \"dtype\": \"category\",\n        \"num_unique_values\": 1,\n        \"samples\": [\n          \" White\"\n        ],\n        \"semantic_type\": \"\",\n        \"description\": \"\"\n      }\n    },\n    {\n      \"column\": \"sex\",\n      \"properties\": {\n        \"dtype\": \"category\",\n        \"num_unique_values\": 1,\n        \"samples\": [\n          \" Male\"\n        ],\n        \"semantic_type\": \"\",\n        \"description\": \"\"\n      }\n    },\n    {\n      \"column\": \"capgain\",\n      \"properties\": {\n        \"dtype\": \"number\",\n        \"std\": 1255,\n        \"min\": 0,\n        \"max\": 2174,\n        \"num_unique_values\": 2,\n        \"samples\": [\n          0\n        ],\n        \"semantic_type\": \"\",\n        \"description\": \"\"\n      }\n    },\n    {\n      \"column\": \"caploss\",\n      \"properties\": {\n        \"dtype\": \"number\",\n        \"std\": 0,\n        \"min\": 0,\n        \"max\": 0,\n        \"num_unique_values\": 1,\n        \"samples\": [\n          0\n        ],\n        \"semantic_type\": \"\",\n        \"description\": \"\"\n      }\n    },\n    {\n      \"column\": \"workhr\",\n      \"properties\": {\n        \"dtype\": \"number\",\n        \"std\": 15,\n        \"min\": 13,\n        \"max\": 40,\n        \"num_unique_values\": 2,\n        \"samples\": [\n          13\n        ],\n        \"semantic_type\": \"\",\n        \"description\": \"\"\n      }\n    },\n    {\n      \"column\": \"country\",\n      \"properties\": {\n        \"dtype\": \"category\",\n        \"num_unique_values\": 1,\n        \"samples\": [\n          \" United-States\"\n        ],\n        \"semantic_type\": \"\",\n        \"description\": \"\"\n      }\n    }\n  ]\n}"
            }
          },
          "metadata": {},
          "execution_count": 5
        }
      ]
    },
    {
      "cell_type": "markdown",
      "metadata": {
        "id": "gBOojI6W1pqA"
      },
      "source": [
        "Alternatively, we can slice based on column names,\n",
        "for example `df[\"race\"]`, `df[\"hr\"]`, or even index multiple columns\n",
        "like below."
      ]
    },
    {
      "cell_type": "code",
      "execution_count": 6,
      "metadata": {
        "colab": {
          "base_uri": "https://localhost:8080/",
          "height": 143
        },
        "id": "4v6pp73A1pqB",
        "outputId": "34f136df-dd2b-48d8-d27b-87217ef8e1a2"
      },
      "outputs": [
        {
          "output_type": "execute_result",
          "data": {
            "text/plain": [
              "   age  yredu  capgain  caploss  workhr\n",
              "0   39     13     2174        0      40\n",
              "1   50     13        0        0      13\n",
              "2   38      9        0        0      40"
            ],
            "text/html": [
              "\n",
              "  <div id=\"df-7873bd25-c8a2-4db4-bcd6-0a8eccc3c71d\" class=\"colab-df-container\">\n",
              "    <div>\n",
              "<style scoped>\n",
              "    .dataframe tbody tr th:only-of-type {\n",
              "        vertical-align: middle;\n",
              "    }\n",
              "\n",
              "    .dataframe tbody tr th {\n",
              "        vertical-align: top;\n",
              "    }\n",
              "\n",
              "    .dataframe thead th {\n",
              "        text-align: right;\n",
              "    }\n",
              "</style>\n",
              "<table border=\"1\" class=\"dataframe\">\n",
              "  <thead>\n",
              "    <tr style=\"text-align: right;\">\n",
              "      <th></th>\n",
              "      <th>age</th>\n",
              "      <th>yredu</th>\n",
              "      <th>capgain</th>\n",
              "      <th>caploss</th>\n",
              "      <th>workhr</th>\n",
              "    </tr>\n",
              "  </thead>\n",
              "  <tbody>\n",
              "    <tr>\n",
              "      <th>0</th>\n",
              "      <td>39</td>\n",
              "      <td>13</td>\n",
              "      <td>2174</td>\n",
              "      <td>0</td>\n",
              "      <td>40</td>\n",
              "    </tr>\n",
              "    <tr>\n",
              "      <th>1</th>\n",
              "      <td>50</td>\n",
              "      <td>13</td>\n",
              "      <td>0</td>\n",
              "      <td>0</td>\n",
              "      <td>13</td>\n",
              "    </tr>\n",
              "    <tr>\n",
              "      <th>2</th>\n",
              "      <td>38</td>\n",
              "      <td>9</td>\n",
              "      <td>0</td>\n",
              "      <td>0</td>\n",
              "      <td>40</td>\n",
              "    </tr>\n",
              "  </tbody>\n",
              "</table>\n",
              "</div>\n",
              "    <div class=\"colab-df-buttons\">\n",
              "\n",
              "  <div class=\"colab-df-container\">\n",
              "    <button class=\"colab-df-convert\" onclick=\"convertToInteractive('df-7873bd25-c8a2-4db4-bcd6-0a8eccc3c71d')\"\n",
              "            title=\"Convert this dataframe to an interactive table.\"\n",
              "            style=\"display:none;\">\n",
              "\n",
              "  <svg xmlns=\"http://www.w3.org/2000/svg\" height=\"24px\" viewBox=\"0 -960 960 960\">\n",
              "    <path d=\"M120-120v-720h720v720H120Zm60-500h600v-160H180v160Zm220 220h160v-160H400v160Zm0 220h160v-160H400v160ZM180-400h160v-160H180v160Zm440 0h160v-160H620v160ZM180-180h160v-160H180v160Zm440 0h160v-160H620v160Z\"/>\n",
              "  </svg>\n",
              "    </button>\n",
              "\n",
              "  <style>\n",
              "    .colab-df-container {\n",
              "      display:flex;\n",
              "      gap: 12px;\n",
              "    }\n",
              "\n",
              "    .colab-df-convert {\n",
              "      background-color: #E8F0FE;\n",
              "      border: none;\n",
              "      border-radius: 50%;\n",
              "      cursor: pointer;\n",
              "      display: none;\n",
              "      fill: #1967D2;\n",
              "      height: 32px;\n",
              "      padding: 0 0 0 0;\n",
              "      width: 32px;\n",
              "    }\n",
              "\n",
              "    .colab-df-convert:hover {\n",
              "      background-color: #E2EBFA;\n",
              "      box-shadow: 0px 1px 2px rgba(60, 64, 67, 0.3), 0px 1px 3px 1px rgba(60, 64, 67, 0.15);\n",
              "      fill: #174EA6;\n",
              "    }\n",
              "\n",
              "    .colab-df-buttons div {\n",
              "      margin-bottom: 4px;\n",
              "    }\n",
              "\n",
              "    [theme=dark] .colab-df-convert {\n",
              "      background-color: #3B4455;\n",
              "      fill: #D2E3FC;\n",
              "    }\n",
              "\n",
              "    [theme=dark] .colab-df-convert:hover {\n",
              "      background-color: #434B5C;\n",
              "      box-shadow: 0px 1px 3px 1px rgba(0, 0, 0, 0.15);\n",
              "      filter: drop-shadow(0px 1px 2px rgba(0, 0, 0, 0.3));\n",
              "      fill: #FFFFFF;\n",
              "    }\n",
              "  </style>\n",
              "\n",
              "    <script>\n",
              "      const buttonEl =\n",
              "        document.querySelector('#df-7873bd25-c8a2-4db4-bcd6-0a8eccc3c71d button.colab-df-convert');\n",
              "      buttonEl.style.display =\n",
              "        google.colab.kernel.accessAllowed ? 'block' : 'none';\n",
              "\n",
              "      async function convertToInteractive(key) {\n",
              "        const element = document.querySelector('#df-7873bd25-c8a2-4db4-bcd6-0a8eccc3c71d');\n",
              "        const dataTable =\n",
              "          await google.colab.kernel.invokeFunction('convertToInteractive',\n",
              "                                                    [key], {});\n",
              "        if (!dataTable) return;\n",
              "\n",
              "        const docLinkHtml = 'Like what you see? Visit the ' +\n",
              "          '<a target=\"_blank\" href=https://colab.research.google.com/notebooks/data_table.ipynb>data table notebook</a>'\n",
              "          + ' to learn more about interactive tables.';\n",
              "        element.innerHTML = '';\n",
              "        dataTable['output_type'] = 'display_data';\n",
              "        await google.colab.output.renderOutput(dataTable, element);\n",
              "        const docLink = document.createElement('div');\n",
              "        docLink.innerHTML = docLinkHtml;\n",
              "        element.appendChild(docLink);\n",
              "      }\n",
              "    </script>\n",
              "  </div>\n",
              "\n",
              "\n",
              "    <div id=\"df-fd026267-fba2-4520-bf34-8d988de3974d\">\n",
              "      <button class=\"colab-df-quickchart\" onclick=\"quickchart('df-fd026267-fba2-4520-bf34-8d988de3974d')\"\n",
              "                title=\"Suggest charts\"\n",
              "                style=\"display:none;\">\n",
              "\n",
              "<svg xmlns=\"http://www.w3.org/2000/svg\" height=\"24px\"viewBox=\"0 0 24 24\"\n",
              "     width=\"24px\">\n",
              "    <g>\n",
              "        <path d=\"M19 3H5c-1.1 0-2 .9-2 2v14c0 1.1.9 2 2 2h14c1.1 0 2-.9 2-2V5c0-1.1-.9-2-2-2zM9 17H7v-7h2v7zm4 0h-2V7h2v10zm4 0h-2v-4h2v4z\"/>\n",
              "    </g>\n",
              "</svg>\n",
              "      </button>\n",
              "\n",
              "<style>\n",
              "  .colab-df-quickchart {\n",
              "      --bg-color: #E8F0FE;\n",
              "      --fill-color: #1967D2;\n",
              "      --hover-bg-color: #E2EBFA;\n",
              "      --hover-fill-color: #174EA6;\n",
              "      --disabled-fill-color: #AAA;\n",
              "      --disabled-bg-color: #DDD;\n",
              "  }\n",
              "\n",
              "  [theme=dark] .colab-df-quickchart {\n",
              "      --bg-color: #3B4455;\n",
              "      --fill-color: #D2E3FC;\n",
              "      --hover-bg-color: #434B5C;\n",
              "      --hover-fill-color: #FFFFFF;\n",
              "      --disabled-bg-color: #3B4455;\n",
              "      --disabled-fill-color: #666;\n",
              "  }\n",
              "\n",
              "  .colab-df-quickchart {\n",
              "    background-color: var(--bg-color);\n",
              "    border: none;\n",
              "    border-radius: 50%;\n",
              "    cursor: pointer;\n",
              "    display: none;\n",
              "    fill: var(--fill-color);\n",
              "    height: 32px;\n",
              "    padding: 0;\n",
              "    width: 32px;\n",
              "  }\n",
              "\n",
              "  .colab-df-quickchart:hover {\n",
              "    background-color: var(--hover-bg-color);\n",
              "    box-shadow: 0 1px 2px rgba(60, 64, 67, 0.3), 0 1px 3px 1px rgba(60, 64, 67, 0.15);\n",
              "    fill: var(--button-hover-fill-color);\n",
              "  }\n",
              "\n",
              "  .colab-df-quickchart-complete:disabled,\n",
              "  .colab-df-quickchart-complete:disabled:hover {\n",
              "    background-color: var(--disabled-bg-color);\n",
              "    fill: var(--disabled-fill-color);\n",
              "    box-shadow: none;\n",
              "  }\n",
              "\n",
              "  .colab-df-spinner {\n",
              "    border: 2px solid var(--fill-color);\n",
              "    border-color: transparent;\n",
              "    border-bottom-color: var(--fill-color);\n",
              "    animation:\n",
              "      spin 1s steps(1) infinite;\n",
              "  }\n",
              "\n",
              "  @keyframes spin {\n",
              "    0% {\n",
              "      border-color: transparent;\n",
              "      border-bottom-color: var(--fill-color);\n",
              "      border-left-color: var(--fill-color);\n",
              "    }\n",
              "    20% {\n",
              "      border-color: transparent;\n",
              "      border-left-color: var(--fill-color);\n",
              "      border-top-color: var(--fill-color);\n",
              "    }\n",
              "    30% {\n",
              "      border-color: transparent;\n",
              "      border-left-color: var(--fill-color);\n",
              "      border-top-color: var(--fill-color);\n",
              "      border-right-color: var(--fill-color);\n",
              "    }\n",
              "    40% {\n",
              "      border-color: transparent;\n",
              "      border-right-color: var(--fill-color);\n",
              "      border-top-color: var(--fill-color);\n",
              "    }\n",
              "    60% {\n",
              "      border-color: transparent;\n",
              "      border-right-color: var(--fill-color);\n",
              "    }\n",
              "    80% {\n",
              "      border-color: transparent;\n",
              "      border-right-color: var(--fill-color);\n",
              "      border-bottom-color: var(--fill-color);\n",
              "    }\n",
              "    90% {\n",
              "      border-color: transparent;\n",
              "      border-bottom-color: var(--fill-color);\n",
              "    }\n",
              "  }\n",
              "</style>\n",
              "\n",
              "      <script>\n",
              "        async function quickchart(key) {\n",
              "          const quickchartButtonEl =\n",
              "            document.querySelector('#' + key + ' button');\n",
              "          quickchartButtonEl.disabled = true;  // To prevent multiple clicks.\n",
              "          quickchartButtonEl.classList.add('colab-df-spinner');\n",
              "          try {\n",
              "            const charts = await google.colab.kernel.invokeFunction(\n",
              "                'suggestCharts', [key], {});\n",
              "          } catch (error) {\n",
              "            console.error('Error during call to suggestCharts:', error);\n",
              "          }\n",
              "          quickchartButtonEl.classList.remove('colab-df-spinner');\n",
              "          quickchartButtonEl.classList.add('colab-df-quickchart-complete');\n",
              "        }\n",
              "        (() => {\n",
              "          let quickchartButtonEl =\n",
              "            document.querySelector('#df-fd026267-fba2-4520-bf34-8d988de3974d button');\n",
              "          quickchartButtonEl.style.display =\n",
              "            google.colab.kernel.accessAllowed ? 'block' : 'none';\n",
              "        })();\n",
              "      </script>\n",
              "    </div>\n",
              "\n",
              "    </div>\n",
              "  </div>\n"
            ],
            "application/vnd.google.colaboratory.intrinsic+json": {
              "type": "dataframe",
              "summary": "{\n  \"name\": \"subdf[:3] # show the first 3 records\",\n  \"rows\": 3,\n  \"fields\": [\n    {\n      \"column\": \"age\",\n      \"properties\": {\n        \"dtype\": \"number\",\n        \"std\": 6,\n        \"min\": 38,\n        \"max\": 50,\n        \"num_unique_values\": 3,\n        \"samples\": [\n          39,\n          50,\n          38\n        ],\n        \"semantic_type\": \"\",\n        \"description\": \"\"\n      }\n    },\n    {\n      \"column\": \"yredu\",\n      \"properties\": {\n        \"dtype\": \"number\",\n        \"std\": 2,\n        \"min\": 9,\n        \"max\": 13,\n        \"num_unique_values\": 2,\n        \"samples\": [\n          9,\n          13\n        ],\n        \"semantic_type\": \"\",\n        \"description\": \"\"\n      }\n    },\n    {\n      \"column\": \"capgain\",\n      \"properties\": {\n        \"dtype\": \"number\",\n        \"std\": 1255,\n        \"min\": 0,\n        \"max\": 2174,\n        \"num_unique_values\": 2,\n        \"samples\": [\n          0,\n          2174\n        ],\n        \"semantic_type\": \"\",\n        \"description\": \"\"\n      }\n    },\n    {\n      \"column\": \"caploss\",\n      \"properties\": {\n        \"dtype\": \"number\",\n        \"std\": 0,\n        \"min\": 0,\n        \"max\": 0,\n        \"num_unique_values\": 1,\n        \"samples\": [\n          0\n        ],\n        \"semantic_type\": \"\",\n        \"description\": \"\"\n      }\n    },\n    {\n      \"column\": \"workhr\",\n      \"properties\": {\n        \"dtype\": \"number\",\n        \"std\": 15,\n        \"min\": 13,\n        \"max\": 40,\n        \"num_unique_values\": 2,\n        \"samples\": [\n          13\n        ],\n        \"semantic_type\": \"\",\n        \"description\": \"\"\n      }\n    }\n  ]\n}"
            }
          },
          "metadata": {},
          "execution_count": 6
        }
      ],
      "source": [
        "subdf = df[[\"age\", \"yredu\", \"capgain\", \"caploss\", \"workhr\"]]\n",
        "subdf[:3] # show the first 3 records"
      ]
    },
    {
      "cell_type": "markdown",
      "metadata": {
        "id": "2Nru2P0E1pqD"
      },
      "source": [
        "Numpy works nicely with pandas, like below:"
      ]
    },
    {
      "cell_type": "code",
      "execution_count": 7,
      "metadata": {
        "colab": {
          "base_uri": "https://localhost:8080/",
          "height": 0
        },
        "id": "JXrS6tjp1pqE",
        "outputId": "70c05bd4-88b7-4bb3-ad19-70e024bdc2bf"
      },
      "outputs": [
        {
          "output_type": "execute_result",
          "data": {
            "text/plain": [
              "np.int64(2842700)"
            ]
          },
          "metadata": {},
          "execution_count": 7
        }
      ],
      "source": [
        "np.sum(subdf[\"caploss\"])"
      ]
    },
    {
      "cell_type": "markdown",
      "metadata": {
        "id": "Mv5mbxDM1pqH"
      },
      "source": [
        "Just like numpy arrays, you can modify\n",
        "entire columns of data rather than one scalar element at a time.\n",
        "For example, the code  \n",
        "\n",
        "`df[\"age\"] = df[\"age\"] + 1`\n",
        "\n",
        "would increment everyone's age by 1."
      ]
    },
    {
      "cell_type": "code",
      "source": [
        "df[:3] # show the first 3 records\n",
        "\n",
        "# age\n",
        "age_max = df[\"age\"].max()\n",
        "age_min = df[\"age\"].min()\n",
        "age_avg = df[\"age\"].mean()\n",
        "print(\"Age\")\n",
        "print(\"Max: \", age_max)\n",
        "print(\"Min: \", age_min)\n",
        "print(\"Avg: \", age_avg)\n",
        "\n",
        "# yredu\n",
        "yredu_max = df[\"yredu\"].max()\n",
        "yredu_min = df[\"yredu\"].min()\n",
        "yredu_avg = df[\"yredu\"].mean()\n",
        "print(\"Yredu\")\n",
        "print(\"Max: \", yredu_max)\n",
        "print(\"Min: \", yredu_min)\n",
        "print(\"Avg: \", yredu_avg)\n",
        "\n",
        "# capgain\n",
        "capgain_max = df[\"capgain\"].max()\n",
        "capgain_min = df[\"capgain\"].min()\n",
        "capgain_avg = df[\"capgain\"].mean()\n",
        "print(\"Capgain\")\n",
        "print(\"Max: \", capgain_max)\n",
        "print(\"Min: \", capgain_min)\n",
        "print(\"Avg: \", capgain_avg)\n",
        "\n",
        "# caploss\n",
        "caploss_max = df[\"caploss\"].max()\n",
        "caploss_min = df[\"caploss\"].min()\n",
        "caploss_avg = df[\"caploss\"].mean()\n",
        "print(\"Caploss\")\n",
        "print(\"Max: \", caploss_max)\n",
        "print(\"Min: \", caploss_min)\n",
        "print(\"Avg: \", caploss_avg)\n",
        "\n",
        "# workhr\n",
        "workhr_max = df[\"workhr\"].max()\n",
        "workhr_min = df[\"workhr\"].min()\n",
        "workhr_avg = df[\"workhr\"].mean()\n",
        "print(\"Workhr\")\n",
        "print(\"Max: \", workhr_max)\n",
        "print(\"Min: \", workhr_min)\n",
        "print(\"Avg: \", workhr_avg)\n",
        "\n",
        "# normalize\n",
        "df[\"age\"] = (df[\"age\"] - age_min) / (age_max - age_min)\n",
        "df[\"yredu\"] = (df[\"yredu\"] - yredu_min) / (yredu_max - yredu_min)\n",
        "df[\"capgain\"] = (df[\"capgain\"] - capgain_min) / (capgain_max - capgain_min)\n",
        "df[\"caploss\"] = (df[\"caploss\"] - caploss_min) / (caploss_max - caploss_min)\n",
        "df[\"workhr\"] = (df[\"workhr\"] - workhr_min) / (workhr_max - workhr_min)"
      ],
      "metadata": {
        "colab": {
          "base_uri": "https://localhost:8080/",
          "height": 0
        },
        "id": "5OrtIDHreMs-",
        "outputId": "a0fd3748-62e5-4df6-cd5d-24328bf961f7"
      },
      "execution_count": 8,
      "outputs": [
        {
          "output_type": "stream",
          "name": "stdout",
          "text": [
            "Age\n",
            "Max:  90\n",
            "Min:  17\n",
            "Avg:  38.58164675532078\n",
            "Yredu\n",
            "Max:  16\n",
            "Min:  1\n",
            "Avg:  10.0806793403151\n",
            "Capgain\n",
            "Max:  99999\n",
            "Min:  0\n",
            "Avg:  1077.6488437087312\n",
            "Caploss\n",
            "Max:  4356\n",
            "Min:  0\n",
            "Avg:  87.303829734959\n",
            "Workhr\n",
            "Max:  99\n",
            "Min:  1\n",
            "Avg:  40.437455852092995\n"
          ]
        }
      ]
    },
    {
      "cell_type": "markdown",
      "metadata": {
        "id": "qbfMly4R1pqK"
      },
      "source": [
        "### Part (b) Categorical Features [1 pt]\n",
        "\n",
        "What percentage of people in our data set are male? Note that the data labels all have an unfortunate space in the beginning, e.g. \" Male\" instead of \"Male\".\n",
        "\n",
        "What percentage of people in our data set are female?"
      ]
    },
    {
      "cell_type": "code",
      "execution_count": 9,
      "metadata": {
        "colab": {
          "base_uri": "https://localhost:8080/",
          "height": 0
        },
        "id": "DjAjcsB_1pqK",
        "outputId": "e9b51ca0-1b22-417e-c8a3-780aaa850556"
      },
      "outputs": [
        {
          "output_type": "stream",
          "name": "stdout",
          "text": [
            "Percentage Males: 66.92054912318419%\n",
            "Percentage Females: 33.07945087681583%\n"
          ]
        }
      ],
      "source": [
        "# hint: you can do something like this in pandas\n",
        "sum(df[\"sex\"] == \" Male\")\n",
        "print(\"Percentage Males: \" + str((sum(df[\"sex\"] == \" Male\") / len(df)) * 100) + \"%\")\n",
        "print(\"Percentage Females: \" + str((sum(df[\"sex\"] == \" Female\") / len(df)) * 100) + \"%\")"
      ]
    },
    {
      "cell_type": "markdown",
      "metadata": {
        "id": "eGVw7pqL1pqN"
      },
      "source": [
        "### Part (c) [2 pt]\n",
        "\n",
        "Before proceeding, we will modify our data frame in a couple more ways:\n",
        "\n",
        "1. We will restrict ourselves to using a subset of the features (to simplify our autoencoder)\n",
        "2. We will remove any records (rows) already containing missing values, and store them in a second dataframe. We will only use records without missing values to train our autoencoder.\n",
        "\n",
        "Both of these steps are done for you, below.\n",
        "\n",
        "How many records contained missing features? What percentage of records were removed?"
      ]
    },
    {
      "cell_type": "code",
      "execution_count": 10,
      "metadata": {
        "collapsed": true,
        "id": "z6ewPUdv1pqO",
        "jupyter": {
          "outputs_hidden": true
        }
      },
      "outputs": [],
      "source": [
        "contcols = [\"age\", \"yredu\", \"capgain\", \"caploss\", \"workhr\"]\n",
        "catcols = [\"work\", \"marriage\", \"occupation\", \"edu\", \"relationship\", \"sex\"]\n",
        "features = contcols + catcols\n",
        "df = df[features]"
      ]
    },
    {
      "cell_type": "code",
      "execution_count": 11,
      "metadata": {
        "collapsed": true,
        "id": "fjdVll5a1pqQ",
        "jupyter": {
          "outputs_hidden": true
        }
      },
      "outputs": [],
      "source": [
        "missing = pd.concat([df[c] == \" ?\" for c in catcols], axis=1).any(axis=1)\n",
        "df_with_missing = df[missing]\n",
        "df_not_missing = df[~missing]"
      ]
    },
    {
      "cell_type": "code",
      "source": [
        "print(\"Records with Missing Features: \" + str(len(df_with_missing)))\n",
        "print(\"Percentage of Records Removed: \" + str((len(df_with_missing) / len(df[\"age\"])) * 100) + \"%\")"
      ],
      "metadata": {
        "colab": {
          "base_uri": "https://localhost:8080/",
          "height": 0
        },
        "id": "UtZ7-NDifAJt",
        "outputId": "f0307184-b8bf-4dd3-cb14-16ecc7bb9c6e"
      },
      "execution_count": 12,
      "outputs": [
        {
          "output_type": "stream",
          "name": "stdout",
          "text": [
            "Records with Missing Features: 1843\n",
            "Percentage of Records Removed: 5.660145572924664%\n"
          ]
        }
      ]
    },
    {
      "cell_type": "markdown",
      "metadata": {
        "id": "XuEpndTQ1pqU"
      },
      "source": [
        "### Part (d) One-Hot Encoding [1 pt]\n",
        "\n",
        "What are all the possible values of the feature \"work\" in `df_not_missing`? You may find the Python function `set` useful."
      ]
    },
    {
      "cell_type": "code",
      "execution_count": 13,
      "metadata": {
        "colab": {
          "base_uri": "https://localhost:8080/",
          "height": 0
        },
        "collapsed": true,
        "id": "iKFh4owE1pqV",
        "jupyter": {
          "outputs_hidden": true
        },
        "outputId": "93db780c-bd61-437f-ed7a-0cd03231e42a"
      },
      "outputs": [
        {
          "output_type": "execute_result",
          "data": {
            "text/plain": [
              "{' Federal-gov',\n",
              " ' Local-gov',\n",
              " ' Private',\n",
              " ' Self-emp-inc',\n",
              " ' Self-emp-not-inc',\n",
              " ' State-gov',\n",
              " ' Without-pay'}"
            ]
          },
          "metadata": {},
          "execution_count": 13
        }
      ],
      "source": [
        "set(df_not_missing[\"work\"])"
      ]
    },
    {
      "cell_type": "markdown",
      "metadata": {
        "id": "COv3HaKr1pqY"
      },
      "source": [
        "We will be using a one-hot encoding to represent each of the categorical variables.\n",
        "Our autoencoder will be trained using these one-hot encodings.\n",
        "\n",
        "We will use the pandas function `get_dummies` to produce one-hot encodings\n",
        "for all of the categorical variables in `df_not_missing`."
      ]
    },
    {
      "cell_type": "code",
      "execution_count": 14,
      "metadata": {
        "collapsed": true,
        "id": "eKlSYmJg1pqZ",
        "jupyter": {
          "outputs_hidden": true
        }
      },
      "outputs": [],
      "source": [
        "data = pd.get_dummies(df_not_missing)"
      ]
    },
    {
      "cell_type": "code",
      "execution_count": 15,
      "metadata": {
        "colab": {
          "base_uri": "https://localhost:8080/",
          "height": 262
        },
        "collapsed": true,
        "id": "3y7nTZ7H1pqb",
        "jupyter": {
          "outputs_hidden": true
        },
        "scrolled": true,
        "outputId": "99d56875-632e-42c7-c068-5d45705c7bea"
      },
      "outputs": [
        {
          "output_type": "execute_result",
          "data": {
            "text/plain": [
              "        age     yredu  capgain  caploss    workhr  work_ Federal-gov  \\\n",
              "0  0.301370  0.800000  0.02174      0.0  0.397959              False   \n",
              "1  0.452055  0.800000  0.00000      0.0  0.122449              False   \n",
              "2  0.287671  0.533333  0.00000      0.0  0.397959              False   \n",
              "\n",
              "   work_ Local-gov  work_ Private  work_ Self-emp-inc  work_ Self-emp-not-inc  \\\n",
              "0            False          False               False                   False   \n",
              "1            False          False               False                    True   \n",
              "2            False           True               False                   False   \n",
              "\n",
              "   ...  edu_ Prof-school  edu_ Some-college  relationship_ Husband  \\\n",
              "0  ...             False              False                  False   \n",
              "1  ...             False              False                   True   \n",
              "2  ...             False              False                  False   \n",
              "\n",
              "   relationship_ Not-in-family  relationship_ Other-relative  \\\n",
              "0                         True                         False   \n",
              "1                        False                         False   \n",
              "2                         True                         False   \n",
              "\n",
              "   relationship_ Own-child  relationship_ Unmarried  relationship_ Wife  \\\n",
              "0                    False                    False               False   \n",
              "1                    False                    False               False   \n",
              "2                    False                    False               False   \n",
              "\n",
              "   sex_ Female  sex_ Male  \n",
              "0        False       True  \n",
              "1        False       True  \n",
              "2        False       True  \n",
              "\n",
              "[3 rows x 57 columns]"
            ],
            "text/html": [
              "\n",
              "  <div id=\"df-274feb4f-b34e-4635-8a8f-12a36b113524\" class=\"colab-df-container\">\n",
              "    <div>\n",
              "<style scoped>\n",
              "    .dataframe tbody tr th:only-of-type {\n",
              "        vertical-align: middle;\n",
              "    }\n",
              "\n",
              "    .dataframe tbody tr th {\n",
              "        vertical-align: top;\n",
              "    }\n",
              "\n",
              "    .dataframe thead th {\n",
              "        text-align: right;\n",
              "    }\n",
              "</style>\n",
              "<table border=\"1\" class=\"dataframe\">\n",
              "  <thead>\n",
              "    <tr style=\"text-align: right;\">\n",
              "      <th></th>\n",
              "      <th>age</th>\n",
              "      <th>yredu</th>\n",
              "      <th>capgain</th>\n",
              "      <th>caploss</th>\n",
              "      <th>workhr</th>\n",
              "      <th>work_ Federal-gov</th>\n",
              "      <th>work_ Local-gov</th>\n",
              "      <th>work_ Private</th>\n",
              "      <th>work_ Self-emp-inc</th>\n",
              "      <th>work_ Self-emp-not-inc</th>\n",
              "      <th>...</th>\n",
              "      <th>edu_ Prof-school</th>\n",
              "      <th>edu_ Some-college</th>\n",
              "      <th>relationship_ Husband</th>\n",
              "      <th>relationship_ Not-in-family</th>\n",
              "      <th>relationship_ Other-relative</th>\n",
              "      <th>relationship_ Own-child</th>\n",
              "      <th>relationship_ Unmarried</th>\n",
              "      <th>relationship_ Wife</th>\n",
              "      <th>sex_ Female</th>\n",
              "      <th>sex_ Male</th>\n",
              "    </tr>\n",
              "  </thead>\n",
              "  <tbody>\n",
              "    <tr>\n",
              "      <th>0</th>\n",
              "      <td>0.301370</td>\n",
              "      <td>0.800000</td>\n",
              "      <td>0.02174</td>\n",
              "      <td>0.0</td>\n",
              "      <td>0.397959</td>\n",
              "      <td>False</td>\n",
              "      <td>False</td>\n",
              "      <td>False</td>\n",
              "      <td>False</td>\n",
              "      <td>False</td>\n",
              "      <td>...</td>\n",
              "      <td>False</td>\n",
              "      <td>False</td>\n",
              "      <td>False</td>\n",
              "      <td>True</td>\n",
              "      <td>False</td>\n",
              "      <td>False</td>\n",
              "      <td>False</td>\n",
              "      <td>False</td>\n",
              "      <td>False</td>\n",
              "      <td>True</td>\n",
              "    </tr>\n",
              "    <tr>\n",
              "      <th>1</th>\n",
              "      <td>0.452055</td>\n",
              "      <td>0.800000</td>\n",
              "      <td>0.00000</td>\n",
              "      <td>0.0</td>\n",
              "      <td>0.122449</td>\n",
              "      <td>False</td>\n",
              "      <td>False</td>\n",
              "      <td>False</td>\n",
              "      <td>False</td>\n",
              "      <td>True</td>\n",
              "      <td>...</td>\n",
              "      <td>False</td>\n",
              "      <td>False</td>\n",
              "      <td>True</td>\n",
              "      <td>False</td>\n",
              "      <td>False</td>\n",
              "      <td>False</td>\n",
              "      <td>False</td>\n",
              "      <td>False</td>\n",
              "      <td>False</td>\n",
              "      <td>True</td>\n",
              "    </tr>\n",
              "    <tr>\n",
              "      <th>2</th>\n",
              "      <td>0.287671</td>\n",
              "      <td>0.533333</td>\n",
              "      <td>0.00000</td>\n",
              "      <td>0.0</td>\n",
              "      <td>0.397959</td>\n",
              "      <td>False</td>\n",
              "      <td>False</td>\n",
              "      <td>True</td>\n",
              "      <td>False</td>\n",
              "      <td>False</td>\n",
              "      <td>...</td>\n",
              "      <td>False</td>\n",
              "      <td>False</td>\n",
              "      <td>False</td>\n",
              "      <td>True</td>\n",
              "      <td>False</td>\n",
              "      <td>False</td>\n",
              "      <td>False</td>\n",
              "      <td>False</td>\n",
              "      <td>False</td>\n",
              "      <td>True</td>\n",
              "    </tr>\n",
              "  </tbody>\n",
              "</table>\n",
              "<p>3 rows × 57 columns</p>\n",
              "</div>\n",
              "    <div class=\"colab-df-buttons\">\n",
              "\n",
              "  <div class=\"colab-df-container\">\n",
              "    <button class=\"colab-df-convert\" onclick=\"convertToInteractive('df-274feb4f-b34e-4635-8a8f-12a36b113524')\"\n",
              "            title=\"Convert this dataframe to an interactive table.\"\n",
              "            style=\"display:none;\">\n",
              "\n",
              "  <svg xmlns=\"http://www.w3.org/2000/svg\" height=\"24px\" viewBox=\"0 -960 960 960\">\n",
              "    <path d=\"M120-120v-720h720v720H120Zm60-500h600v-160H180v160Zm220 220h160v-160H400v160Zm0 220h160v-160H400v160ZM180-400h160v-160H180v160Zm440 0h160v-160H620v160ZM180-180h160v-160H180v160Zm440 0h160v-160H620v160Z\"/>\n",
              "  </svg>\n",
              "    </button>\n",
              "\n",
              "  <style>\n",
              "    .colab-df-container {\n",
              "      display:flex;\n",
              "      gap: 12px;\n",
              "    }\n",
              "\n",
              "    .colab-df-convert {\n",
              "      background-color: #E8F0FE;\n",
              "      border: none;\n",
              "      border-radius: 50%;\n",
              "      cursor: pointer;\n",
              "      display: none;\n",
              "      fill: #1967D2;\n",
              "      height: 32px;\n",
              "      padding: 0 0 0 0;\n",
              "      width: 32px;\n",
              "    }\n",
              "\n",
              "    .colab-df-convert:hover {\n",
              "      background-color: #E2EBFA;\n",
              "      box-shadow: 0px 1px 2px rgba(60, 64, 67, 0.3), 0px 1px 3px 1px rgba(60, 64, 67, 0.15);\n",
              "      fill: #174EA6;\n",
              "    }\n",
              "\n",
              "    .colab-df-buttons div {\n",
              "      margin-bottom: 4px;\n",
              "    }\n",
              "\n",
              "    [theme=dark] .colab-df-convert {\n",
              "      background-color: #3B4455;\n",
              "      fill: #D2E3FC;\n",
              "    }\n",
              "\n",
              "    [theme=dark] .colab-df-convert:hover {\n",
              "      background-color: #434B5C;\n",
              "      box-shadow: 0px 1px 3px 1px rgba(0, 0, 0, 0.15);\n",
              "      filter: drop-shadow(0px 1px 2px rgba(0, 0, 0, 0.3));\n",
              "      fill: #FFFFFF;\n",
              "    }\n",
              "  </style>\n",
              "\n",
              "    <script>\n",
              "      const buttonEl =\n",
              "        document.querySelector('#df-274feb4f-b34e-4635-8a8f-12a36b113524 button.colab-df-convert');\n",
              "      buttonEl.style.display =\n",
              "        google.colab.kernel.accessAllowed ? 'block' : 'none';\n",
              "\n",
              "      async function convertToInteractive(key) {\n",
              "        const element = document.querySelector('#df-274feb4f-b34e-4635-8a8f-12a36b113524');\n",
              "        const dataTable =\n",
              "          await google.colab.kernel.invokeFunction('convertToInteractive',\n",
              "                                                    [key], {});\n",
              "        if (!dataTable) return;\n",
              "\n",
              "        const docLinkHtml = 'Like what you see? Visit the ' +\n",
              "          '<a target=\"_blank\" href=https://colab.research.google.com/notebooks/data_table.ipynb>data table notebook</a>'\n",
              "          + ' to learn more about interactive tables.';\n",
              "        element.innerHTML = '';\n",
              "        dataTable['output_type'] = 'display_data';\n",
              "        await google.colab.output.renderOutput(dataTable, element);\n",
              "        const docLink = document.createElement('div');\n",
              "        docLink.innerHTML = docLinkHtml;\n",
              "        element.appendChild(docLink);\n",
              "      }\n",
              "    </script>\n",
              "  </div>\n",
              "\n",
              "\n",
              "    <div id=\"df-151983d8-e978-4211-9a42-3b821fdd2ba4\">\n",
              "      <button class=\"colab-df-quickchart\" onclick=\"quickchart('df-151983d8-e978-4211-9a42-3b821fdd2ba4')\"\n",
              "                title=\"Suggest charts\"\n",
              "                style=\"display:none;\">\n",
              "\n",
              "<svg xmlns=\"http://www.w3.org/2000/svg\" height=\"24px\"viewBox=\"0 0 24 24\"\n",
              "     width=\"24px\">\n",
              "    <g>\n",
              "        <path d=\"M19 3H5c-1.1 0-2 .9-2 2v14c0 1.1.9 2 2 2h14c1.1 0 2-.9 2-2V5c0-1.1-.9-2-2-2zM9 17H7v-7h2v7zm4 0h-2V7h2v10zm4 0h-2v-4h2v4z\"/>\n",
              "    </g>\n",
              "</svg>\n",
              "      </button>\n",
              "\n",
              "<style>\n",
              "  .colab-df-quickchart {\n",
              "      --bg-color: #E8F0FE;\n",
              "      --fill-color: #1967D2;\n",
              "      --hover-bg-color: #E2EBFA;\n",
              "      --hover-fill-color: #174EA6;\n",
              "      --disabled-fill-color: #AAA;\n",
              "      --disabled-bg-color: #DDD;\n",
              "  }\n",
              "\n",
              "  [theme=dark] .colab-df-quickchart {\n",
              "      --bg-color: #3B4455;\n",
              "      --fill-color: #D2E3FC;\n",
              "      --hover-bg-color: #434B5C;\n",
              "      --hover-fill-color: #FFFFFF;\n",
              "      --disabled-bg-color: #3B4455;\n",
              "      --disabled-fill-color: #666;\n",
              "  }\n",
              "\n",
              "  .colab-df-quickchart {\n",
              "    background-color: var(--bg-color);\n",
              "    border: none;\n",
              "    border-radius: 50%;\n",
              "    cursor: pointer;\n",
              "    display: none;\n",
              "    fill: var(--fill-color);\n",
              "    height: 32px;\n",
              "    padding: 0;\n",
              "    width: 32px;\n",
              "  }\n",
              "\n",
              "  .colab-df-quickchart:hover {\n",
              "    background-color: var(--hover-bg-color);\n",
              "    box-shadow: 0 1px 2px rgba(60, 64, 67, 0.3), 0 1px 3px 1px rgba(60, 64, 67, 0.15);\n",
              "    fill: var(--button-hover-fill-color);\n",
              "  }\n",
              "\n",
              "  .colab-df-quickchart-complete:disabled,\n",
              "  .colab-df-quickchart-complete:disabled:hover {\n",
              "    background-color: var(--disabled-bg-color);\n",
              "    fill: var(--disabled-fill-color);\n",
              "    box-shadow: none;\n",
              "  }\n",
              "\n",
              "  .colab-df-spinner {\n",
              "    border: 2px solid var(--fill-color);\n",
              "    border-color: transparent;\n",
              "    border-bottom-color: var(--fill-color);\n",
              "    animation:\n",
              "      spin 1s steps(1) infinite;\n",
              "  }\n",
              "\n",
              "  @keyframes spin {\n",
              "    0% {\n",
              "      border-color: transparent;\n",
              "      border-bottom-color: var(--fill-color);\n",
              "      border-left-color: var(--fill-color);\n",
              "    }\n",
              "    20% {\n",
              "      border-color: transparent;\n",
              "      border-left-color: var(--fill-color);\n",
              "      border-top-color: var(--fill-color);\n",
              "    }\n",
              "    30% {\n",
              "      border-color: transparent;\n",
              "      border-left-color: var(--fill-color);\n",
              "      border-top-color: var(--fill-color);\n",
              "      border-right-color: var(--fill-color);\n",
              "    }\n",
              "    40% {\n",
              "      border-color: transparent;\n",
              "      border-right-color: var(--fill-color);\n",
              "      border-top-color: var(--fill-color);\n",
              "    }\n",
              "    60% {\n",
              "      border-color: transparent;\n",
              "      border-right-color: var(--fill-color);\n",
              "    }\n",
              "    80% {\n",
              "      border-color: transparent;\n",
              "      border-right-color: var(--fill-color);\n",
              "      border-bottom-color: var(--fill-color);\n",
              "    }\n",
              "    90% {\n",
              "      border-color: transparent;\n",
              "      border-bottom-color: var(--fill-color);\n",
              "    }\n",
              "  }\n",
              "</style>\n",
              "\n",
              "      <script>\n",
              "        async function quickchart(key) {\n",
              "          const quickchartButtonEl =\n",
              "            document.querySelector('#' + key + ' button');\n",
              "          quickchartButtonEl.disabled = true;  // To prevent multiple clicks.\n",
              "          quickchartButtonEl.classList.add('colab-df-spinner');\n",
              "          try {\n",
              "            const charts = await google.colab.kernel.invokeFunction(\n",
              "                'suggestCharts', [key], {});\n",
              "          } catch (error) {\n",
              "            console.error('Error during call to suggestCharts:', error);\n",
              "          }\n",
              "          quickchartButtonEl.classList.remove('colab-df-spinner');\n",
              "          quickchartButtonEl.classList.add('colab-df-quickchart-complete');\n",
              "        }\n",
              "        (() => {\n",
              "          let quickchartButtonEl =\n",
              "            document.querySelector('#df-151983d8-e978-4211-9a42-3b821fdd2ba4 button');\n",
              "          quickchartButtonEl.style.display =\n",
              "            google.colab.kernel.accessAllowed ? 'block' : 'none';\n",
              "        })();\n",
              "      </script>\n",
              "    </div>\n",
              "\n",
              "    </div>\n",
              "  </div>\n"
            ],
            "application/vnd.google.colaboratory.intrinsic+json": {
              "type": "dataframe"
            }
          },
          "metadata": {},
          "execution_count": 15
        }
      ],
      "source": [
        "data[:3]"
      ]
    },
    {
      "cell_type": "markdown",
      "metadata": {
        "id": "HwjDg1uM1pqe"
      },
      "source": [
        "### Part (e) One-Hot Encoding [2 pt]\n",
        "\n",
        "The dataframe `data` contains the cleaned and normalized data that we will use to train our denoising autoencoder.\n",
        "\n",
        "How many **columns** (features) are in the dataframe `data`?\n",
        "\n",
        "Briefly explain where that number come from."
      ]
    },
    {
      "cell_type": "code",
      "execution_count": 16,
      "metadata": {
        "colab": {
          "base_uri": "https://localhost:8080/",
          "height": 0
        },
        "collapsed": true,
        "id": "yjZ5N0Tl1pqf",
        "jupyter": {
          "outputs_hidden": true
        },
        "outputId": "2b769882-8e39-4692-d3bb-df0e2ef7fc7e"
      },
      "outputs": [
        {
          "output_type": "stream",
          "name": "stdout",
          "text": [
            "Number of Columns: 57\n",
            "Number of Binary Columns: 57\n"
          ]
        }
      ],
      "source": [
        "print(\"Number of Columns: \" + str(len(data.columns)))\n",
        "# Each One-Hot Encoding Created New Columns for Each Category, Creating Multiple Binary Columns\n",
        "# Check if the Number of Binary Conditions is 57\n",
        "# Added 5 which is the pre existing categories\n",
        "num_columns = 5 + len(set(df_not_missing[\"work\"])) + len(set(df_not_missing[\"marriage\"])) + len(set(df_not_missing[\"occupation\"])) + len(set(df_not_missing[\"edu\"])) + len(set(df_not_missing[\"relationship\"])) + len(set(df_not_missing[\"sex\"]))\n",
        "print(\"Number of Binary Columns: \" + str(num_columns))"
      ]
    },
    {
      "cell_type": "markdown",
      "metadata": {
        "id": "OEJ0Ci3l1pqh"
      },
      "source": [
        "### Part (f) One-Hot Conversion [3 pt]\n",
        "\n",
        "We will convert the pandas data frame `data` into numpy, so that\n",
        "it can be further converted into a PyTorch tensor.\n",
        "However, in doing so, we lose the column label information that\n",
        "a panda data frame automatically stores.\n",
        "\n",
        "Complete the function `get_categorical_value` that will return\n",
        "the named value of a feature given a one-hot embedding.\n",
        "You may find the global variables `cat_index` and `cat_values`\n",
        "useful. (Display them and figure out what they are first.)\n",
        "\n",
        "We will need this function in the next part of the lab\n",
        "to interpret our autoencoder outputs. So, the input\n",
        "to our function `get_categorical_values` might not\n",
        "actually be \"one-hot\" -- the input may instead\n",
        "contain real-valued predictions from our neural network."
      ]
    },
    {
      "cell_type": "code",
      "execution_count": 17,
      "metadata": {
        "collapsed": true,
        "id": "ZmovX6gu1pqi",
        "jupyter": {
          "outputs_hidden": true
        }
      },
      "outputs": [],
      "source": [
        "datanp = data.values.astype(np.float32)"
      ]
    },
    {
      "cell_type": "code",
      "execution_count": 18,
      "metadata": {
        "collapsed": true,
        "id": "YRIa5MBd1pql",
        "jupyter": {
          "outputs_hidden": true
        }
      },
      "outputs": [],
      "source": [
        "cat_index = {}  # Mapping of feature -> start index of feature in a record\n",
        "cat_values = {} # Mapping of feature -> list of categorical values the feature can take\n",
        "\n",
        "# build up the cat_index and cat_values dictionary\n",
        "for i, header in enumerate(data.keys()):\n",
        "    if \"_\" in header: # categorical header\n",
        "        feature, value = header.split()\n",
        "        feature = feature[:-1] # remove the last char; it is always an underscore\n",
        "        if feature not in cat_index:\n",
        "            cat_index[feature] = i\n",
        "            cat_values[feature] = [value]\n",
        "        else:\n",
        "            cat_values[feature].append(value)\n",
        "\n",
        "def get_onehot(record, feature):\n",
        "    \"\"\"\n",
        "    Return the portion of `record` that is the one-hot encoding\n",
        "    of `feature`. For example, since the feature \"work\" is stored\n",
        "    in the indices [5:12] in each record, calling `get_range(record, \"work\")`\n",
        "    is equivalent to accessing `record[5:12]`.\n",
        "\n",
        "    Args:\n",
        "        - record: a numpy array representing one record, formatted\n",
        "                  the same way as a row in `data.np`\n",
        "        - feature: a string, should be an element of `catcols`\n",
        "    \"\"\"\n",
        "    start_index = cat_index[feature]\n",
        "    stop_index = cat_index[feature] + len(cat_values[feature])\n",
        "    return record[start_index:stop_index]\n",
        "\n",
        "def get_categorical_value(onehot, feature):\n",
        "    \"\"\"\n",
        "    Return the categorical value name of a feature given\n",
        "    a one-hot vector representing the feature.\n",
        "\n",
        "    Args:\n",
        "        - onehot: a numpy array one-hot representation of the feature\n",
        "        - feature: a string, should be an element of `catcols`\n",
        "\n",
        "    Examples:\n",
        "\n",
        "    >>> get_categorical_value(np.array([0., 0., 0., 0., 0., 1., 0.]), \"work\")\n",
        "    'State-gov'\n",
        "    >>> get_categorical_value(np.array([0.1, 0., 1.1, 0.2, 0., 1., 0.]), \"work\")\n",
        "    'Private'\n",
        "    \"\"\"\n",
        "    # <----- TODO: WRITE YOUR CODE HERE ----->\n",
        "    index = np.argmax(onehot)\n",
        "    return cat_values[feature][index]\n",
        "    # You may find the variables `cat_index` and `cat_values`\n",
        "    # (created above) useful."
      ]
    },
    {
      "cell_type": "code",
      "execution_count": 19,
      "metadata": {
        "collapsed": true,
        "id": "T_XXxZdh1pqv",
        "jupyter": {
          "outputs_hidden": true
        }
      },
      "outputs": [],
      "source": [
        "# more useful code, used during training, that depends on the function\n",
        "# you write above\n",
        "\n",
        "def get_feature(record, feature):\n",
        "    \"\"\"\n",
        "    Return the categorical feature value of a record\n",
        "    \"\"\"\n",
        "    onehot = get_onehot(record, feature)\n",
        "    return get_categorical_value(onehot, feature)\n",
        "\n",
        "def get_features(record):\n",
        "    \"\"\"\n",
        "    Return a dictionary of all categorical feature values of a record\n",
        "    \"\"\"\n",
        "    return { f: get_feature(record, f) for f in catcols }"
      ]
    },
    {
      "cell_type": "markdown",
      "metadata": {
        "id": "1_5ZZR_J1pqy"
      },
      "source": [
        "### Part (g) Train/Test Split [3 pt]\n",
        "\n",
        "Randomly split the data into approximately 70% training, 15% validation and 15% test.\n",
        "\n",
        "Report the number of items in your training, validation, and test set."
      ]
    },
    {
      "cell_type": "code",
      "execution_count": 20,
      "metadata": {
        "colab": {
          "base_uri": "https://localhost:8080/",
          "height": 0
        },
        "collapsed": true,
        "id": "TE_fTJJf1pqz",
        "jupyter": {
          "outputs_hidden": true
        },
        "outputId": "a4996c8f-9ff9-4191-d366-d30d4bdbb2df"
      },
      "outputs": [
        {
          "output_type": "stream",
          "name": "stdout",
          "text": [
            "Training Size: 21502\n",
            "Validation Size: 4607\n",
            "Test Size: 4609\n"
          ]
        }
      ],
      "source": [
        "# set the numpy seed for reproducibility\n",
        "# https://docs.scipy.org/doc/numpy/reference/generated/numpy.random.seed.html\n",
        "np.random.seed(50)\n",
        "\n",
        "# todo\n",
        "train_size = int(0.7 * len(datanp))\n",
        "valid_size = int(0.15 * len(datanp))\n",
        "test_size = len(datanp) - train_size - valid_size\n",
        "\n",
        "train_data, valid_data, test_data = torch.utils.data.random_split(datanp, [train_size, valid_size, test_size])\n",
        "\n",
        "print(\"Training Size: \" + str(len(train_data)))\n",
        "print(\"Validation Size: \" + str(len(valid_data)))\n",
        "print(\"Test Size: \" + str(len(test_data)))"
      ]
    },
    {
      "cell_type": "markdown",
      "metadata": {
        "id": "h9wJAKOI1pq3"
      },
      "source": [
        "## Part 2. Model Setup [5 pt]\n",
        "\n",
        "### Part (a) [4 pt]\n",
        "\n",
        "Design a fully-connected autoencoder by modifying the `encoder` and `decoder`\n",
        "below.\n",
        "\n",
        "The input to this autoencoder will be the features of the `data`, with\n",
        "one categorical feature recorded as \"missing\". The output of the autoencoder\n",
        "should be the reconstruction of the same features, but with the missing\n",
        "value filled in.\n",
        "\n",
        "**Note**: Do not reduce the dimensionality of the input too much!\n",
        "The output of your embedding is expected to contain information\n",
        "about ~11 features."
      ]
    },
    {
      "cell_type": "code",
      "execution_count": 26,
      "metadata": {
        "collapsed": true,
        "id": "f3F--tdn1pq3",
        "jupyter": {
          "outputs_hidden": true
        }
      },
      "outputs": [],
      "source": [
        "from torch import nn\n",
        "\n",
        "class AutoEncoder(nn.Module):\n",
        "    def __init__(self):\n",
        "        super(AutoEncoder, self).__init__()\n",
        "        self.encoder = nn.Sequential(\n",
        "            nn.Linear(57, 40),\n",
        "            nn.ReLU(),\n",
        "            nn.Linear(40, 20),\n",
        "            nn.ReLU(),\n",
        "            nn.Linear(20, 11), # Bottleneck to about 11 features\n",
        "            nn.ReLU()\n",
        "        )\n",
        "        self.decoder = nn.Sequential(\n",
        "            nn.Linear(11, 20),\n",
        "            nn.ReLU(),\n",
        "            nn.Linear(20, 40),\n",
        "            nn.ReLU(),\n",
        "            nn.Linear(40, 57),\n",
        "            nn.Sigmoid() # get to the range (0, 1)\n",
        "        )\n",
        "\n",
        "    def forward(self, x):\n",
        "        x = self.encoder(x)\n",
        "        x = self.decoder(x)\n",
        "        return x"
      ]
    },
    {
      "cell_type": "markdown",
      "metadata": {
        "id": "kuEzTSAv1pq6"
      },
      "source": [
        "### Part (b) [1 pt]\n",
        "\n",
        "Explain why there is a sigmoid activation in the last step of the decoder.\n",
        "\n",
        "(**Note**: the values inside the data frame `data` and the training code in Part 3 might be helpful.)"
      ]
    },
    {
      "cell_type": "markdown",
      "source": [
        "**The information the autoencoder will predict is the missing categorical feature that is seperated into multiple binary columns.  Therefore, it must have a normalized output of between [0,1], which is achieved by the sigmoid activation.**"
      ],
      "metadata": {
        "id": "oZJIpHu8qbV8"
      }
    },
    {
      "cell_type": "markdown",
      "metadata": {
        "id": "jYwqFWVl1pq8"
      },
      "source": [
        "## Part 3. Training [18]\n",
        "\n",
        "### Part (a) [6 pt]\n",
        "\n",
        "We will train our autoencoder in the following way:\n",
        "\n",
        "- In each iteration, we will hide one of the categorical features using the `zero_out_random_features` function\n",
        "- We will pass the data with one missing feature through the autoencoder, and obtain a reconstruction\n",
        "- We will check how close the reconstruction is compared to the original data -- including the value of the missing feature\n",
        "\n",
        "Complete the code to train the autoencoder, and plot the training and validation loss every few iterations.\n",
        "You may also want to plot training and validation \"accuracy\" every few iterations, as we will define in\n",
        "part (b). You may also want to checkpoint your model every few iterations or epochs.\n",
        "\n",
        "Use `nn.MSELoss()` as your loss function. (Side note: you might recognize that this loss function is not\n",
        "ideal for this problem, but we will use it anyway.)"
      ]
    },
    {
      "cell_type": "code",
      "execution_count": 29,
      "metadata": {
        "collapsed": true,
        "id": "IDQA_-dS1pq9",
        "jupyter": {
          "outputs_hidden": true
        }
      },
      "outputs": [],
      "source": [
        "def zero_out_feature(records, feature):\n",
        "    \"\"\" Set the feature missing in records, by setting the appropriate\n",
        "    columns of records to 0\n",
        "    \"\"\"\n",
        "    start_index = cat_index[feature]\n",
        "    stop_index = cat_index[feature] + len(cat_values[feature])\n",
        "    records[:, start_index:stop_index] = 0\n",
        "    return records\n",
        "\n",
        "def zero_out_random_feature(records):\n",
        "    \"\"\" Set one random feature missing in records, by setting the\n",
        "    appropriate columns of records to 0\n",
        "    \"\"\"\n",
        "    return zero_out_feature(records, random.choice(catcols))\n",
        "\n",
        "def get_loss(model, data_loader, criterion):\n",
        "    model.eval()\n",
        "    total_loss = 0\n",
        "    index = 0\n",
        "    for data in data_loader:\n",
        "        datam = zero_out_random_feature(data.clone())\n",
        "        recon = model(datam)\n",
        "        loss = criterion(recon, data)\n",
        "        total_loss += loss.item()\n",
        "        index += 1\n",
        "    return total_loss / index\n",
        "\n",
        "def train(model, train_loader, valid_loader, num_epochs=5, learning_rate=1e-4):\n",
        "    \"\"\" Training loop. You should update this.\"\"\"\n",
        "    torch.manual_seed(42)\n",
        "    criterion = nn.MSELoss()\n",
        "    optimizer = torch.optim.Adam(model.parameters(), lr=learning_rate)\n",
        "\n",
        "    train_acc = np.zeros(num_epochs)\n",
        "    valid_acc = np.zeros(num_epochs)\n",
        "\n",
        "    train_loss = np.zeros(num_epochs)\n",
        "    valid_loss = np.zeros(num_epochs)\n",
        "\n",
        "    for epoch in range(num_epochs):\n",
        "        index = 0\n",
        "        total_loss = 0\n",
        "        for data in train_loader:\n",
        "            datam = zero_out_random_feature(data.clone()) # zero out one categorical feature\n",
        "            recon = model(datam)\n",
        "            loss = criterion(recon, data)\n",
        "            loss.backward()\n",
        "            optimizer.step()\n",
        "            optimizer.zero_grad()\n",
        "            total_loss += loss.item()\n",
        "            index += 1\n",
        "\n",
        "        train_acc[epoch] = get_accuracy(model, train_loader)\n",
        "        valid_acc[epoch] = get_accuracy(model, valid_loader)\n",
        "        train_loss[epoch] = total_loss / (index+1)\n",
        "        valid_loss[epoch] = get_loss(model, valid_loader, criterion)\n",
        "\n",
        "        print(\"epoch: \", epoch+1)\n",
        "        print(\"train loss: \", train_loss[epoch])\n",
        "        print(\"train acc: \", train_acc[epoch])\n",
        "        print(\"valid loss: \", valid_loss[epoch])\n",
        "        print(\"valid acc: \", valid_acc[epoch])\n",
        "\n",
        "    epochs = np.arange(1, num_epochs+1)\n",
        "    return epochs, train_loss, valid_loss, train_acc, valid_acc"
      ]
    },
    {
      "cell_type": "markdown",
      "metadata": {
        "id": "WKk01pwx1pq_"
      },
      "source": [
        "### Part (b) [3 pt]\n",
        "\n",
        "While plotting training and validation loss is valuable, loss values are harder to compare\n",
        "than accuracy percentages. It would be nice to have a measure of \"accuracy\" in this problem.\n",
        "\n",
        "Since we will only be imputing missing categorical values, we will define an accuracy measure.\n",
        "For each record and for each categorical feature, we determine whether\n",
        "the model can predict the categorical feature given all the other features of the record.\n",
        "\n",
        "A function `get_accuracy` is written for you. It is up to you to figure out how to\n",
        "use the function. **You don't need to submit anything in this part.**\n",
        "To earn the marks, correctly plot the training and validation accuracy every few\n",
        "iterations as part of your training curve."
      ]
    },
    {
      "cell_type": "code",
      "execution_count": 23,
      "metadata": {
        "collapsed": true,
        "id": "bHWLfCzM1pq_",
        "jupyter": {
          "outputs_hidden": true
        }
      },
      "outputs": [],
      "source": [
        "def get_accuracy(model, data_loader):\n",
        "    \"\"\"Return the \"accuracy\" of the autoencoder model across a data set.\n",
        "    That is, for each record and for each categorical feature,\n",
        "    we determine whether the model can successfully predict the value\n",
        "    of the categorical feature given all the other features of the\n",
        "    record. The returned \"accuracy\" measure is the percentage of times\n",
        "    that our model is successful.\n",
        "\n",
        "    Args:\n",
        "       - model: the autoencoder model, an instance of nn.Module\n",
        "       - data_loader: an instance of torch.utils.data.DataLoader\n",
        "\n",
        "    Example (to illustrate how get_accuracy is intended to be called.\n",
        "             Depending on your variable naming this code might require\n",
        "             modification.)\n",
        "\n",
        "        >>> model = AutoEncoder()\n",
        "        >>> vdl = torch.utils.data.DataLoader(data_valid, batch_size=256, shuffle=True)\n",
        "        >>> get_accuracy(model, vdl)\n",
        "    \"\"\"\n",
        "    total = 0\n",
        "    acc = 0\n",
        "    for col in catcols:\n",
        "        for item in data_loader: # minibatches\n",
        "            inp = item.detach().numpy()\n",
        "            out = model(zero_out_feature(item.clone(), col)).detach().numpy()\n",
        "            for i in range(out.shape[0]): # record in minibatch\n",
        "                acc += int(get_feature(out[i], col) == get_feature(inp[i], col))\n",
        "                total += 1\n",
        "    return acc / total"
      ]
    },
    {
      "cell_type": "markdown",
      "metadata": {
        "id": "SxCTlXoV1prB"
      },
      "source": [
        "### Part (c) [4 pt]\n",
        "\n",
        "Run your updated training code, using reasonable initial hyperparameters.\n",
        "\n",
        "Include your training curve in your submission."
      ]
    },
    {
      "cell_type": "code",
      "execution_count": 31,
      "metadata": {
        "colab": {
          "base_uri": "https://localhost:8080/",
          "height": 3207
        },
        "collapsed": true,
        "id": "nj5b71l-1prC",
        "jupyter": {
          "outputs_hidden": true
        },
        "outputId": "07328f96-fe62-492e-a6b4-08239a9bd3d6"
      },
      "outputs": [
        {
          "output_type": "stream",
          "name": "stdout",
          "text": [
            "epoch:  1\n",
            "train loss:  0.07352530944090542\n",
            "train acc:  0.571218181254457\n",
            "valid loss:  0.05242440583080881\n",
            "valid acc:  0.5692424571304536\n",
            "epoch:  2\n",
            "train loss:  0.04868647280698545\n",
            "train acc:  0.5840154404241465\n",
            "valid loss:  0.04333733239521583\n",
            "valid acc:  0.5804572751609869\n",
            "epoch:  3\n",
            "train loss:  0.04056448843136408\n",
            "train acc:  0.6059591355842867\n",
            "valid loss:  0.03803753735135413\n",
            "valid acc:  0.6046595760075247\n",
            "epoch:  4\n",
            "train loss:  0.036195834439917626\n",
            "train acc:  0.6074628716708523\n",
            "valid loss:  0.03512508675663008\n",
            "valid acc:  0.6045148686780986\n",
            "epoch:  5\n",
            "train loss:  0.03356430189958033\n",
            "train acc:  0.6156559079775524\n",
            "valid loss:  0.03267041719259901\n",
            "valid acc:  0.6126908327906808\n",
            "epoch:  6\n",
            "train loss:  0.03180509768315711\n",
            "train acc:  0.6101990512510465\n",
            "valid loss:  0.030771473810697596\n",
            "valid acc:  0.6061066493017871\n",
            "epoch:  7\n",
            "train loss:  0.03012779449150077\n",
            "train acc:  0.6085557932595418\n",
            "valid loss:  0.02978180899905662\n",
            "valid acc:  0.6058895883076478\n",
            "epoch:  8\n",
            "train loss:  0.02853204296655499\n",
            "train acc:  0.6089201004557716\n",
            "valid loss:  0.027988838950275548\n",
            "valid acc:  0.606034295637074\n",
            "epoch:  9\n",
            "train loss:  0.02694001548922168\n",
            "train acc:  0.6102843146373981\n",
            "valid loss:  0.026420632416071992\n",
            "valid acc:  0.6083134360755372\n",
            "epoch:  10\n",
            "train loss:  0.025834808164839403\n",
            "train acc:  0.6086875639475398\n",
            "valid loss:  0.025614528379972197\n",
            "valid acc:  0.6057448809782215\n",
            "epoch:  11\n",
            "train loss:  0.02501686105164208\n",
            "train acc:  0.6088968468049484\n",
            "valid loss:  0.02461007595734878\n",
            "valid acc:  0.6053831126546559\n",
            "epoch:  12\n",
            "train loss:  0.023971131161397756\n",
            "train acc:  0.6128189625771246\n",
            "valid loss:  0.02327816345496103\n",
            "valid acc:  0.6137761377613776\n",
            "epoch:  13\n",
            "train loss:  0.023109119832460362\n",
            "train acc:  0.6095557002449384\n",
            "valid loss:  0.022270359596910164\n",
            "valid acc:  0.6110266985022791\n",
            "epoch:  14\n",
            "train loss:  0.02202367335751675\n",
            "train acc:  0.6101137878646947\n",
            "valid loss:  0.021706577978976484\n",
            "valid acc:  0.612184357137689\n",
            "epoch:  15\n",
            "train loss:  0.021037365521621207\n",
            "train acc:  0.621825876662636\n",
            "valid loss:  0.020300401012516685\n",
            "valid acc:  0.620143260256132\n",
            "epoch:  16\n",
            "train loss:  0.020237648501206205\n",
            "train acc:  0.6103695780237497\n",
            "valid loss:  0.020602221361413185\n",
            "valid acc:  0.6099052166992258\n",
            "epoch:  17\n",
            "train loss:  0.01986703085803038\n",
            "train acc:  0.6128887235295941\n",
            "valid loss:  0.019536871954591736\n",
            "valid acc:  0.6127993632877505\n",
            "epoch:  18\n",
            "train loss:  0.019497674827589854\n",
            "train acc:  0.6109664217282114\n",
            "valid loss:  0.020234099379093904\n",
            "valid acc:  0.6069748932783445\n",
            "epoch:  19\n",
            "train loss:  0.019096204092142133\n",
            "train acc:  0.618833906923387\n",
            "valid loss:  0.019112127483822405\n",
            "valid acc:  0.6183705954706606\n",
            "epoch:  20\n",
            "train loss:  0.019028722911929218\n",
            "train acc:  0.6130127430006511\n",
            "valid loss:  0.018892971430129062\n",
            "valid acc:  0.6123290644671152\n",
            "epoch:  21\n",
            "train loss:  0.01861093149009821\n",
            "train acc:  0.6228335348649738\n",
            "valid loss:  0.0184886281300957\n",
            "valid acc:  0.6222776933651689\n",
            "epoch:  22\n",
            "train loss:  0.018493128930084285\n",
            "train acc:  0.6223762130654513\n",
            "valid loss:  0.018215113804520417\n",
            "valid acc:  0.6219882787063165\n",
            "epoch:  23\n",
            "train loss:  0.018191216781978974\n",
            "train acc:  0.6165240442749512\n",
            "valid loss:  0.018609905932357326\n",
            "valid acc:  0.6175023514941032\n",
            "epoch:  24\n",
            "train loss:  0.018293898898615525\n",
            "train acc:  0.6198493163426658\n",
            "valid loss:  0.01822907811987938\n",
            "valid acc:  0.6184067723030171\n",
            "epoch:  25\n",
            "train loss:  0.01791581622342874\n",
            "train acc:  0.6076023935757914\n",
            "valid loss:  0.018580541680825666\n",
            "valid acc:  0.6092902105491643\n",
            "epoch:  26\n",
            "train loss:  0.01769575988597072\n",
            "train acc:  0.6215080767680525\n",
            "valid loss:  0.017825856261576217\n",
            "valid acc:  0.6209391505679762\n",
            "epoch:  27\n",
            "train loss:  0.01757546839059329\n",
            "train acc:  0.619105199516324\n",
            "valid loss:  0.017719089215259172\n",
            "valid acc:  0.6179002966500253\n",
            "epoch:  28\n",
            "train loss:  0.01725638459711979\n",
            "train acc:  0.6197640529563141\n",
            "valid loss:  0.01775129042410602\n",
            "valid acc:  0.6176108819911729\n",
            "epoch:  29\n",
            "train loss:  0.017265669377396136\n",
            "train acc:  0.6108966607757418\n",
            "valid loss:  0.01789963128329772\n",
            "valid acc:  0.6100137471962955\n",
            "epoch:  30\n",
            "train loss:  0.017265510277609503\n",
            "train acc:  0.6182835705205717\n",
            "valid loss:  0.017530182441179123\n",
            "valid acc:  0.6171405831705375\n"
          ]
        },
        {
          "output_type": "display_data",
          "data": {
            "text/plain": [
              "<Figure size 640x480 with 1 Axes>"
            ],
            "image/png": "[encoded data removed]"
          },
          "metadata": {}
        },
        {
          "output_type": "display_data",
          "data": {
            "text/plain": [
              "<Figure size 640x480 with 1 Axes>"
            ],
            "image/png": "[encoded data removed]"
          },
          "metadata": {}
        },
        {
          "output_type": "display_data",
          "data": {
            "text/plain": [
              "<Figure size 640x480 with 1 Axes>"
            ],
            "image/png": "[encoded data removed]"
          },
          "metadata": {}
        }
      ],
      "source": [
        "import matplotlib.pyplot as plt\n",
        "\n",
        "# Initialize Hyperparameters\n",
        "batch_size = 32\n",
        "train_loader = torch.utils.data.DataLoader(train_data, batch_size = batch_size)\n",
        "val_loader = torch.utils.data.DataLoader(valid_data, batch_size = batch_size)\n",
        "test_loader = torch.utils.data.DataLoader(test_data, batch_size = batch_size)\n",
        "\n",
        "auto_encoder_0 = AutoEncoder()\n",
        "epochs, train_loss, val_loss, train_acc, val_acc = train(auto_encoder_0, train_loader, val_loader, num_epochs = 30, learning_rate = 0.001)\n",
        "\n",
        "plt.title(\"Train & Val Accuracy\")\n",
        "plt.plot(epochs, train_acc, label=\"Train\")\n",
        "plt.plot(epochs, val_acc, label=\"Val\")\n",
        "plt.xlabel(\"Epochs\")\n",
        "plt.ylabel(\"Accuracy\")\n",
        "plt.legend(loc='best')\n",
        "plt.show()\n",
        "\n",
        "plt.title(\"Train Loss\")\n",
        "plt.plot(epochs, train_loss, label=\"Train\")\n",
        "plt.xlabel(\"Epochs\")\n",
        "plt.ylabel(\"Train Loss\")\n",
        "plt.legend(loc='best')\n",
        "plt.show()\n",
        "\n",
        "plt.title(\"Val Loss\")\n",
        "plt.plot(epochs, val_loss, label=\"Val\")\n",
        "plt.xlabel(\"Epochs\")\n",
        "plt.ylabel(\"Val Loss\")\n",
        "plt.legend(loc='best')\n",
        "plt.show()"
      ]
    },
    {
      "cell_type": "markdown",
      "metadata": {
        "id": "h9xTwIf51prF"
      },
      "source": [
        "### Part (d) [5 pt]\n",
        "\n",
        "Tune your hyperparameters, training at least 4 different models (4 sets of hyperparameters).\n",
        "\n",
        "Do not include all your training curves. Instead, explain what hyperparameters\n",
        "you tried, what their effect was, and what your thought process was as you\n",
        "chose the next set of hyperparameters to try."
      ]
    },
    {
      "cell_type": "markdown",
      "source": [
        "**First Set: Batch Size = 32, Epoch = 30, Learning Rate = 0.001.  Training and Validation accuracy are relatively the same, at a max of about 62%.  Both training and validation loss decrease plateaued to about 0.17.  Since overfitting has not been observed, the number of epochs will be increased to 50 to observe the effects of more training iterations.**"
      ],
      "metadata": {
        "id": "b1ncKm5uGV7m"
      }
    },
    {
      "cell_type": "markdown",
      "source": [
        "**Second Set: Batch Size = 32, Epoch = 50, Learning Rate = 0.001.  Similar to the first set, training and validation accuracy are relatively the same, at a max of about 63%.  The loss plateaued at around 0.16 for both training and validation.  Since overfitting is still not observed, the number of epochs will be increased to 100.  In addition, a smaller batch size of 16 will be used to introduce more noise.  This can help the model to escape the local minima.**"
      ],
      "metadata": {
        "id": "6zJrgiT1JMa_"
      }
    },
    {
      "cell_type": "markdown",
      "source": [
        "**Third Set: Batch Size = 16, Epoch = 100, Learning Rate = 0.001.  Slight improvement with the loss to around 0.12; however, it still plateaus and decreases slowly.  Accuracy increased slightly to about 65% for validation and 66% for training.  No signs of overfitting is present.  For the fourth and final set, learning rate will be increased to 0.005 to speed up the convergence as the model is training very slowly.**"
      ],
      "metadata": {
        "id": "0VXW2N9kOXDQ"
      }
    },
    {
      "cell_type": "markdown",
      "source": [
        "**Fourth Set: Batch Size = 16, Epoch = 100, Learning Rate = 0.005.  Loss plateaued at around 0.17, which is higher than before; however, both training and validation accuracy increased to 68% and plateaued at around 60th epoch.  This is the set of hyperparameters with the best accuracy and will be used as the final model.**"
      ],
      "metadata": {
        "id": "mNN5kstLV1Ye"
      }
    },
    {
      "cell_type": "code",
      "execution_count": 40,
      "metadata": {
        "colab": {
          "base_uri": "https://localhost:8080/",
          "height": 9580
        },
        "collapsed": true,
        "id": "PhTKt9iL1prG",
        "jupyter": {
          "outputs_hidden": true
        },
        "outputId": "589f24cc-8081-4c64-e052-8ac1506d891e"
      },
      "outputs": [
        {
          "output_type": "stream",
          "name": "stdout",
          "text": [
            "epoch:  1\n",
            "train loss:  0.051781181117249685\n",
            "train acc:  0.5892552630763029\n",
            "valid loss:  0.043564544085206255\n",
            "valid acc:  0.5843281962231387\n",
            "epoch:  2\n",
            "train loss:  0.039637855829525614\n",
            "train acc:  0.6120283384491365\n",
            "valid loss:  0.03637920342023588\n",
            "valid acc:  0.6098690398668692\n",
            "epoch:  3\n",
            "train loss:  0.03379495220335\n",
            "train acc:  0.6028664000248039\n",
            "valid loss:  0.033756378759992205\n",
            "valid acc:  0.597749801027422\n",
            "epoch:  4\n",
            "train loss:  0.031568244457604935\n",
            "train acc:  0.6122763773912504\n",
            "valid loss:  0.030697449589044683\n",
            "valid acc:  0.6076622530931192\n",
            "epoch:  5\n",
            "train loss:  0.02870442156357947\n",
            "train acc:  0.6135010696679378\n",
            "valid loss:  0.026782646325753175\n",
            "valid acc:  0.612184357137689\n",
            "epoch:  6\n",
            "train loss:  0.02634089242729279\n",
            "train acc:  0.6202058723219546\n",
            "valid loss:  0.02552255773722815\n",
            "valid acc:  0.6185876564648\n",
            "epoch:  7\n",
            "train loss:  0.025317491712844947\n",
            "train acc:  0.6115090069140855\n",
            "valid loss:  0.025319586630858894\n",
            "valid acc:  0.6105563996816439\n",
            "epoch:  8\n",
            "train loss:  0.02333765160292387\n",
            "train acc:  0.6280035965646606\n",
            "valid loss:  0.02232572645071842\n",
            "valid acc:  0.6248462484624846\n",
            "epoch:  9\n",
            "train loss:  0.02262029547943668\n",
            "train acc:  0.630910302917558\n",
            "valid loss:  0.0222980637400825\n",
            "valid acc:  0.6308154258013169\n",
            "epoch:  10\n",
            "train loss:  0.021951198277364876\n",
            "train acc:  0.6284919232319475\n",
            "valid loss:  0.021638326878827583\n",
            "valid acc:  0.624484480138919\n",
            "epoch:  11\n",
            "train loss:  0.021354839321378216\n",
            "train acc:  0.630910302917558\n",
            "valid loss:  0.0213740887993481\n",
            "valid acc:  0.6298024744953332\n",
            "epoch:  12\n",
            "train loss:  0.02120597800932354\n",
            "train acc:  0.6333984435556382\n",
            "valid loss:  0.02113123029509249\n",
            "valid acc:  0.6316113161131611\n",
            "epoch:  13\n",
            "train loss:  0.02083334611472587\n",
            "train acc:  0.6450020153164047\n",
            "valid loss:  0.020874207152195998\n",
            "valid acc:  0.6426452499819116\n",
            "epoch:  14\n",
            "train loss:  0.019710091074589348\n",
            "train acc:  0.6483195361671783\n",
            "valid loss:  0.019703362846889325\n",
            "valid acc:  0.6440923232761739\n",
            "epoch:  15\n",
            "train loss:  0.019412957786211958\n",
            "train acc:  0.6529005053793445\n",
            "valid loss:  0.01935519710726415\n",
            "valid acc:  0.6489761956443094\n",
            "epoch:  16\n",
            "train loss:  0.01928039260423261\n",
            "train acc:  0.6539391684494466\n",
            "valid loss:  0.01932888070910445\n",
            "valid acc:  0.6531003545329571\n",
            "epoch:  17\n",
            "train loss:  0.019084792205073687\n",
            "train acc:  0.656334294484234\n",
            "valid loss:  0.018956507577159856\n",
            "valid acc:  0.6538238911800883\n",
            "epoch:  18\n",
            "train loss:  0.01890887169368205\n",
            "train acc:  0.6598610981924162\n",
            "valid loss:  0.01889124617284526\n",
            "valid acc:  0.6554156718037769\n",
            "epoch:  19\n",
            "train loss:  0.018790239226903947\n",
            "train acc:  0.6594347812606579\n",
            "valid loss:  0.018580298468198937\n",
            "valid acc:  0.6563200926126909\n",
            "epoch:  20\n",
            "train loss:  0.018264358215809535\n",
            "train acc:  0.6654652280408024\n",
            "valid loss:  0.01828689209651202\n",
            "valid acc:  0.6623254467838796\n",
            "epoch:  21\n",
            "train loss:  0.018341915052017148\n",
            "train acc:  0.6608997612625183\n",
            "valid loss:  0.01811268054168775\n",
            "valid acc:  0.65885247087765\n",
            "epoch:  22\n",
            "train loss:  0.018101101188286863\n",
            "train acc:  0.6671317396831302\n",
            "valid loss:  0.018048925200774748\n",
            "valid acc:  0.6637363432457855\n",
            "epoch:  23\n",
            "train loss:  0.018103404320277912\n",
            "train acc:  0.6631631166093077\n",
            "valid loss:  0.018110965931555256\n",
            "valid acc:  0.6613848491426091\n",
            "epoch:  24\n",
            "train loss:  0.017846768393724826\n",
            "train acc:  0.6690772951353362\n",
            "valid loss:  0.017907174900756218\n",
            "valid acc:  0.6663772520078142\n",
            "epoch:  25\n",
            "train loss:  0.0178134942624621\n",
            "train acc:  0.67020122159179\n",
            "valid loss:  0.018083468540377606\n",
            "valid acc:  0.6700311120758267\n",
            "epoch:  26\n",
            "train loss:  0.01756631054233441\n",
            "train acc:  0.6706895482590767\n",
            "valid loss:  0.017826606655338157\n",
            "valid acc:  0.6676434411402937\n",
            "epoch:  27\n",
            "train loss:  0.01745441890612494\n",
            "train acc:  0.6751775028679503\n",
            "valid loss:  0.01742869132107848\n",
            "valid acc:  0.6731061428261341\n",
            "epoch:  28\n",
            "train loss:  0.01750501706264913\n",
            "train acc:  0.6669844665612501\n",
            "valid loss:  0.01782941137207672\n",
            "valid acc:  0.665074886042978\n",
            "epoch:  29\n",
            "train loss:  0.017351561620983825\n",
            "train acc:  0.6734412302731528\n",
            "valid loss:  0.01747422262269538\n",
            "valid acc:  0.670899356052384\n",
            "epoch:  30\n",
            "train loss:  0.017408971337352266\n",
            "train acc:  0.6707515579946052\n",
            "valid loss:  0.017578963921146676\n",
            "valid acc:  0.6680413862962159\n",
            "epoch:  31\n",
            "train loss:  0.017375534006695656\n",
            "train acc:  0.6800762719747\n",
            "valid loss:  0.017242553457941137\n",
            "valid acc:  0.678532667679618\n",
            "epoch:  32\n",
            "train loss:  0.017268973265404098\n",
            "train acc:  0.677998945834496\n",
            "valid loss:  0.017163074442780472\n",
            "valid acc:  0.6744446856233268\n",
            "epoch:  33\n",
            "train loss:  0.017194670317244462\n",
            "train acc:  0.676177409853347\n",
            "valid loss:  0.017018962934445072\n",
            "valid acc:  0.6735402648144129\n",
            "epoch:  34\n",
            "train loss:  0.017081969947862305\n",
            "train acc:  0.6777664093262642\n",
            "valid loss:  0.01722976107784133\n",
            "valid acc:  0.6735402648144129\n",
            "epoch:  35\n",
            "train loss:  0.01718680749363422\n",
            "train acc:  0.6768517657272192\n",
            "valid loss:  0.017343153460792057\n",
            "valid acc:  0.6724187830113595\n",
            "epoch:  36\n",
            "train loss:  0.016917968715876894\n",
            "train acc:  0.6786888041422503\n",
            "valid loss:  0.017142418374229845\n",
            "valid acc:  0.6756385210910932\n",
            "epoch:  37\n",
            "train loss:  0.01720942600238999\n",
            "train acc:  0.6760998976839364\n",
            "valid loss:  0.017154267872683704\n",
            "valid acc:  0.6715867158671587\n",
            "epoch:  38\n",
            "train loss:  0.01673248273780964\n",
            "train acc:  0.6775338728180325\n",
            "valid loss:  0.017165790282888338\n",
            "valid acc:  0.6742276246291875\n",
            "epoch:  39\n",
            "train loss:  0.01694952720035297\n",
            "train acc:  0.679301150280594\n",
            "valid loss:  0.017092769593647163\n",
            "valid acc:  0.6753491064322408\n",
            "epoch:  40\n",
            "train loss:  0.017015463479389488\n",
            "train acc:  0.6776656435060304\n",
            "valid loss:  0.016998940396458946\n",
            "valid acc:  0.6742999782939005\n",
            "epoch:  41\n",
            "train loss:  0.016995382182764023\n",
            "train acc:  0.6810296716584504\n",
            "valid loss:  0.017408801430267178\n",
            "valid acc:  0.678532667679618\n",
            "epoch:  42\n",
            "train loss:  0.0168324418985683\n",
            "train acc:  0.6814404861563266\n",
            "valid loss:  0.017091933118839126\n",
            "valid acc:  0.6777729542001303\n",
            "epoch:  43\n",
            "train loss:  0.01689156396366434\n",
            "train acc:  0.6800297646730536\n",
            "valid loss:  0.017044370963251114\n",
            "valid acc:  0.6766514723970769\n",
            "epoch:  44\n",
            "train loss:  0.01669583849498109\n",
            "train acc:  0.6807273741977491\n",
            "valid loss:  0.017051715111140058\n",
            "valid acc:  0.6783517835178352\n",
            "epoch:  45\n",
            "train loss:  0.016875018602147088\n",
            "train acc:  0.678774067528602\n",
            "valid loss:  0.016429437340573512\n",
            "valid acc:  0.676072643079372\n",
            "epoch:  46\n",
            "train loss:  0.016851001786462767\n",
            "train acc:  0.6806731156791617\n",
            "valid loss:  0.016703678152730897\n",
            "valid acc:  0.6765067650676507\n",
            "epoch:  47\n",
            "train loss:  0.016798399078060758\n",
            "train acc:  0.6797274672123523\n",
            "valid loss:  0.016996801253602218\n",
            "valid acc:  0.6769770638882859\n",
            "epoch:  48\n",
            "train loss:  0.01690775784144531\n",
            "train acc:  0.6803630670015193\n",
            "valid loss:  0.016959435552255146\n",
            "valid acc:  0.6774111858765647\n",
            "epoch:  49\n",
            "train loss:  0.016909171740583328\n",
            "train acc:  0.6817117787492636\n",
            "valid loss:  0.01713021957645348\n",
            "valid acc:  0.6791476738296794\n",
            "epoch:  50\n",
            "train loss:  0.016805085073810306\n",
            "train acc:  0.6816420177967941\n",
            "valid loss:  0.01721816269208729\n",
            "valid acc:  0.6782432530207655\n",
            "epoch:  51\n",
            "train loss:  0.01671930646980839\n",
            "train acc:  0.6809289058382166\n",
            "valid loss:  0.01695481156315913\n",
            "valid acc:  0.6769047102235728\n",
            "epoch:  52\n",
            "train loss:  0.016805903548132422\n",
            "train acc:  0.6816032617120888\n",
            "valid loss:  0.017398949599333316\n",
            "valid acc:  0.6778453078648433\n",
            "epoch:  53\n",
            "train loss:  0.016707775887226526\n",
            "train acc:  0.6818745543050259\n",
            "valid loss:  0.016991244219954953\n",
            "valid acc:  0.6777729542001303\n",
            "epoch:  54\n",
            "train loss:  0.016802239335630242\n",
            "train acc:  0.680975413139863\n",
            "valid loss:  0.017047843523970287\n",
            "valid acc:  0.6774473627089213\n",
            "epoch:  55\n",
            "train loss:  0.01677784270963538\n",
            "train acc:  0.6818590518711438\n",
            "valid loss:  0.017606738275693107\n",
            "valid acc:  0.6775197163736343\n",
            "epoch:  56\n",
            "train loss:  0.016726056669862963\n",
            "train acc:  0.6817737884847921\n",
            "valid loss:  0.016942120839505352\n",
            "valid acc:  0.6778453078648433\n",
            "epoch:  57\n",
            "train loss:  0.017014809397696673\n",
            "train acc:  0.6818745543050259\n",
            "valid loss:  0.017122160195463546\n",
            "valid acc:  0.6788220823384704\n",
            "epoch:  58\n",
            "train loss:  0.0167495986671779\n",
            "train acc:  0.6817427836170279\n",
            "valid loss:  0.01690473199091179\n",
            "valid acc:  0.6782794298531221\n",
            "epoch:  59\n",
            "train loss:  0.016850640787137154\n",
            "train acc:  0.6816652714476172\n",
            "valid loss:  0.016780976202830464\n",
            "valid acc:  0.6784964908472614\n",
            "epoch:  60\n",
            "train loss:  0.016812030037996605\n",
            "train acc:  0.6821148420301988\n",
            "valid loss:  0.016539720108590297\n",
            "valid acc:  0.6779176615295565\n",
            "epoch:  61\n",
            "train loss:  0.01683909586080277\n",
            "train acc:  0.6819985737760829\n",
            "valid loss:  0.017332919475544866\n",
            "valid acc:  0.6782432530207655\n",
            "epoch:  62\n",
            "train loss:  0.016862143801185944\n",
            "train acc:  0.6819365640405544\n",
            "valid loss:  0.016602664511689607\n",
            "valid acc:  0.6782794298531221\n",
            "epoch:  63\n",
            "train loss:  0.016875013273181635\n",
            "train acc:  0.6813087154683285\n",
            "valid loss:  0.017221715367567312\n",
            "valid acc:  0.6769770638882859\n",
            "epoch:  64\n",
            "train loss:  0.016725299140736182\n",
            "train acc:  0.6811381886956253\n",
            "valid loss:  0.01727352002409235\n",
            "valid acc:  0.6774835395412777\n",
            "epoch:  65\n",
            "train loss:  0.016829426639252878\n",
            "train acc:  0.6814559885902086\n",
            "valid loss:  0.017069334172346216\n",
            "valid acc:  0.6773388322118515\n",
            "epoch:  66\n",
            "train loss:  0.016777375496605403\n",
            "train acc:  0.6813552227699748\n",
            "valid loss:  0.016939569109429915\n",
            "valid acc:  0.6774473627089213\n",
            "epoch:  67\n",
            "train loss:  0.01672109508779606\n",
            "train acc:  0.6813474715530339\n",
            "valid loss:  0.017221493638418097\n",
            "valid acc:  0.6771941248824253\n",
            "epoch:  68\n",
            "train loss:  0.016696669351219523\n",
            "train acc:  0.6815490031935014\n",
            "valid loss:  0.017189842014987435\n",
            "valid acc:  0.677302655379495\n",
            "epoch:  69\n",
            "train loss:  0.016727646307666617\n",
            "train acc:  0.6816730226645583\n",
            "valid loss:  0.01694922423404124\n",
            "valid acc:  0.6775558932059909\n",
            "epoch:  70\n",
            "train loss:  0.016927932270847566\n",
            "train acc:  0.6813242179022106\n",
            "valid loss:  0.017063839608454145\n",
            "valid acc:  0.6770494175529991\n",
            "epoch:  71\n",
            "train loss:  0.01675098965110666\n",
            "train acc:  0.6814404861563266\n",
            "valid loss:  0.0168050834472524\n",
            "valid acc:  0.6772664785471384\n",
            "epoch:  72\n",
            "train loss:  0.016821368949550126\n",
            "train acc:  0.6815179983257371\n",
            "valid loss:  0.016892509119417\n",
            "valid acc:  0.6775558932059909\n",
            "epoch:  73\n",
            "train loss:  0.016693004706465953\n",
            "train acc:  0.6812854618175054\n",
            "valid loss:  0.01739132137865656\n",
            "valid acc:  0.677302655379495\n",
            "epoch:  74\n",
            "train loss:  0.016755174672002576\n",
            "train acc:  0.6814559885902086\n",
            "valid loss:  0.01681167341949832\n",
            "valid acc:  0.6775197163736343\n",
            "epoch:  75\n",
            "train loss:  0.016699688995540918\n",
            "train acc:  0.6815179983257371\n",
            "valid loss:  0.017241013250895776\n",
            "valid acc:  0.6774473627089213\n",
            "epoch:  76\n",
            "train loss:  0.016768721898941522\n",
            "train acc:  0.6818047933525564\n",
            "valid loss:  0.01686030918628805\n",
            "valid acc:  0.6776644237030606\n",
            "epoch:  77\n",
            "train loss:  0.01685698433696088\n",
            "train acc:  0.6817117787492636\n",
            "valid loss:  0.017041023616911843\n",
            "valid acc:  0.6777006005354171\n",
            "epoch:  78\n",
            "train loss:  0.01678316538952651\n",
            "train acc:  0.681626515362912\n",
            "valid loss:  0.01677567537505335\n",
            "valid acc:  0.6775558932059909\n",
            "epoch:  79\n",
            "train loss:  0.016745415340319664\n",
            "train acc:  0.6816032617120888\n",
            "valid loss:  0.016778662346445747\n",
            "valid acc:  0.6776644237030606\n",
            "epoch:  80\n",
            "train loss:  0.01672140885746889\n",
            "train acc:  0.6814094812885623\n",
            "valid loss:  0.016784836507415295\n",
            "valid acc:  0.6776644237030606\n",
            "epoch:  81\n",
            "train loss:  0.01663922209199172\n",
            "train acc:  0.6813939788546802\n",
            "valid loss:  0.01720754449100544\n",
            "valid acc:  0.6775197163736343\n",
            "epoch:  82\n",
            "train loss:  0.016676412821923933\n",
            "train acc:  0.6816187641459709\n",
            "valid loss:  0.016891062309797335\n",
            "valid acc:  0.6778091310324867\n",
            "epoch:  83\n",
            "train loss:  0.016674900861962466\n",
            "train acc:  0.6816652714476172\n",
            "valid loss:  0.01752103954075008\n",
            "valid acc:  0.6775558932059909\n",
            "epoch:  84\n",
            "train loss:  0.016844775711037357\n",
            "train acc:  0.6815179983257371\n",
            "valid loss:  0.01720548986728924\n",
            "valid acc:  0.6774835395412777\n",
            "epoch:  85\n",
            "train loss:  0.016876872280114037\n",
            "train acc:  0.6814869934579729\n",
            "valid loss:  0.016884249306814227\n",
            "valid acc:  0.6773388322118515\n",
            "epoch:  86\n",
            "train loss:  0.016707143894497126\n",
            "train acc:  0.6814327349393855\n",
            "valid loss:  0.016971291196467873\n",
            "valid acc:  0.6774111858765647\n",
            "epoch:  87\n",
            "train loss:  0.016727397757578904\n",
            "train acc:  0.681510247108796\n",
            "valid loss:  0.016657755564665422\n",
            "valid acc:  0.6774835395412777\n",
            "epoch:  88\n",
            "train loss:  0.01667995121274628\n",
            "train acc:  0.6815257495426782\n",
            "valid loss:  0.017043612722773105\n",
            "valid acc:  0.6774473627089213\n",
            "epoch:  89\n",
            "train loss:  0.016631186131187144\n",
            "train acc:  0.6815412519765603\n",
            "valid loss:  0.016819645434022985\n",
            "valid acc:  0.6774111858765647\n",
            "epoch:  90\n",
            "train loss:  0.016699482081284866\n",
            "train acc:  0.6814404861563266\n",
            "valid loss:  0.01703735337974245\n",
            "valid acc:  0.6773750090442081\n",
            "epoch:  91\n",
            "train loss:  0.016659061159232293\n",
            "train acc:  0.6813939788546802\n",
            "valid loss:  0.01718399557446699\n",
            "valid acc:  0.6774473627089213\n",
            "epoch:  92\n",
            "train loss:  0.01672641682701677\n",
            "train acc:  0.6814559885902086\n",
            "valid loss:  0.016892290219806858\n",
            "valid acc:  0.6774473627089213\n",
            "epoch:  93\n",
            "train loss:  0.016802638379656138\n",
            "train acc:  0.681510247108796\n",
            "valid loss:  0.017048250119033683\n",
            "valid acc:  0.6773388322118515\n",
            "epoch:  94\n",
            "train loss:  0.016723962746851395\n",
            "train acc:  0.6814482373732677\n",
            "valid loss:  0.017126770407129597\n",
            "valid acc:  0.6774111858765647\n",
            "epoch:  95\n",
            "train loss:  0.01695473157838818\n",
            "train acc:  0.6814792422410318\n",
            "valid loss:  0.01681145247291877\n",
            "valid acc:  0.6773750090442081\n",
            "epoch:  96\n",
            "train loss:  0.016852163826375093\n",
            "train acc:  0.6814327349393855\n",
            "valid loss:  0.01690220295535659\n",
            "valid acc:  0.6775558932059909\n",
            "epoch:  97\n",
            "train loss:  0.016770577112898286\n",
            "train acc:  0.6814559885902086\n",
            "valid loss:  0.01672005700755916\n",
            "valid acc:  0.6773750090442081\n",
            "epoch:  98\n",
            "train loss:  0.016643918258030674\n",
            "train acc:  0.6814482373732677\n",
            "valid loss:  0.016889734082117986\n",
            "valid acc:  0.6774111858765647\n",
            "epoch:  99\n",
            "train loss:  0.01664246006498328\n",
            "train acc:  0.6814482373732677\n",
            "valid loss:  0.016953497853440542\n",
            "valid acc:  0.677302655379495\n",
            "epoch:  100\n",
            "train loss:  0.016623791010157103\n",
            "train acc:  0.6814559885902086\n",
            "valid loss:  0.016991602635243908\n",
            "valid acc:  0.6773388322118515\n"
          ]
        },
        {
          "output_type": "display_data",
          "data": {
            "text/plain": [
              "<Figure size 640x480 with 1 Axes>"
            ],
            "image/png": "[encoded data removed]"
          },
          "metadata": {}
        },
        {
          "output_type": "display_data",
          "data": {
            "text/plain": [
              "<Figure size 640x480 with 1 Axes>"
            ],
            "image/png": "[encoded data removed]"
          },
          "metadata": {}
        },
        {
          "output_type": "display_data",
          "data": {
            "text/plain": [
              "<Figure size 640x480 with 1 Axes>"
            ],
            "image/png": "[encoded data removed]"
          },
          "metadata": {}
        }
      ],
      "source": [
        "# Fourth Set Model (Used as Best/Final Model)\n",
        "auto_encoder_3 = AutoEncoder()\n",
        "batch_size = 16\n",
        "train_loader = torch.utils.data.DataLoader(train_data, batch_size = batch_size)\n",
        "val_loader = torch.utils.data.DataLoader(valid_data, batch_size = batch_size)\n",
        "test_loader = torch.utils.data.DataLoader(test_data, batch_size = batch_size)\n",
        "\n",
        "epochs, train_loss, val_loss, train_acc, val_acc = train(auto_encoder_3, train_loader, val_loader, num_epochs = 100, learning_rate = 0.005)\n",
        "\n",
        "plt.title(\"Train & Val Accuracy\")\n",
        "plt.plot(epochs, train_acc, label=\"Train\")\n",
        "plt.plot(epochs, val_acc, label=\"Val\")\n",
        "plt.xlabel(\"Epochs\")\n",
        "plt.ylabel(\"Accuracy\")\n",
        "plt.legend(loc='best')\n",
        "plt.show()\n",
        "\n",
        "plt.title(\"Train Loss\")\n",
        "plt.plot(epochs, train_loss, label=\"Train\")\n",
        "plt.xlabel(\"Epochs\")\n",
        "plt.ylabel(\"Train Loss\")\n",
        "plt.legend(loc='best')\n",
        "plt.show()\n",
        "\n",
        "plt.title(\"Val Loss\")\n",
        "plt.plot(epochs, val_loss, label=\"Val\")\n",
        "plt.xlabel(\"Epochs\")\n",
        "plt.ylabel(\"Val Loss\")\n",
        "plt.legend(loc='best')\n",
        "plt.show()"
      ]
    },
    {
      "cell_type": "markdown",
      "metadata": {
        "id": "ymCsZH291prI"
      },
      "source": [
        "## Part 4. Testing [12 pt]\n",
        "\n",
        "### Part (a) [2 pt]\n",
        "\n",
        "Compute and report the test accuracy."
      ]
    },
    {
      "cell_type": "code",
      "execution_count": 42,
      "metadata": {
        "colab": {
          "base_uri": "https://localhost:8080/",
          "height": 0
        },
        "collapsed": true,
        "id": "0OkSbup91prJ",
        "jupyter": {
          "outputs_hidden": true
        },
        "outputId": "862ce17c-e68b-405c-db0b-1837a2617251"
      },
      "outputs": [
        {
          "output_type": "stream",
          "name": "stdout",
          "text": [
            "0.677189556664497\n"
          ]
        }
      ],
      "source": [
        "print(get_accuracy(auto_encoder_3, test_loader))"
      ]
    },
    {
      "cell_type": "markdown",
      "source": [
        "**The test accuracy of the autoencoder is 68%**"
      ],
      "metadata": {
        "id": "0JyF_A3Md5O9"
      }
    },
    {
      "cell_type": "markdown",
      "metadata": {
        "id": "UEe9yt6L1prM"
      },
      "source": [
        "### Part (b) [4 pt]\n",
        "\n",
        "Based on the test accuracy alone, it is difficult to assess whether our model\n",
        "is actually performing well. We don't know whether a high accuracy is due to\n",
        "the simplicity of the problem, or if a poor accuracy is a result of the inherent\n",
        "difficulty of the problem.\n",
        "\n",
        "It is therefore very important to be able to compare our model to at least one\n",
        "alternative. In particular, we consider a simple **baseline**\n",
        "model that is not very computationally expensive. Our neural network\n",
        "should at least outperform this baseline model. If our network is not much\n",
        "better than the baseline, then it is not doing well.\n",
        "\n",
        "For our data imputation problem, consider the following baseline model:\n",
        "to predict a missing feature, the baseline model will look at the **most common value** of the feature in the training set.\n",
        "\n",
        "For example, if the feature \"marriage\" is missing, then this model's prediction will be the most common value for \"marriage\" in the training set, which happens to be \"Married-civ-spouse\".\n",
        "\n",
        "What would be the test accuracy of this baseline model?\n"
      ]
    },
    {
      "cell_type": "code",
      "execution_count": 75,
      "metadata": {
        "collapsed": true,
        "id": "p45VHp011prN",
        "jupyter": {
          "outputs_hidden": true
        }
      },
      "outputs": [],
      "source": [
        "# Extract the most common value of the feature in the training set\n",
        "most_common_id = {}\n",
        "\n",
        "train_indices = train_data.indices\n",
        "\n",
        "train_df = df.iloc[train_indices]\n",
        "\n",
        "for col in catcols:\n",
        "    most_common_value = train_df[col].value_counts().idxmax().strip()\n",
        "    most_common_id[col] = cat_values[col].index(most_common_value)"
      ]
    },
    {
      "cell_type": "code",
      "source": [
        "def baseline_model(vec):\n",
        "    vec = vec.clone() # Leave the Original Unchanged\n",
        "    for col in catcols:\n",
        "        vec[:, cat_index[col]:cat_index[col]+len(cat_values[col])] = 0\n",
        "        vec[:, cat_index[col]+most_common_id[col]] = 1\n",
        "    return vec"
      ],
      "metadata": {
        "id": "uMFUBtULfq7Z"
      },
      "execution_count": 76,
      "outputs": []
    },
    {
      "cell_type": "code",
      "source": [
        "print(get_accuracy(baseline_model, test_loader))"
      ],
      "metadata": {
        "colab": {
          "base_uri": "https://localhost:8080/",
          "height": 0
        },
        "id": "Ad8OMzV1gMEF",
        "outputId": "0c521db7-77ce-4897-8b83-e07811a48350"
      },
      "execution_count": 77,
      "outputs": [
        {
          "output_type": "stream",
          "name": "stdout",
          "text": [
            "0.4597888189773631\n"
          ]
        }
      ]
    },
    {
      "cell_type": "markdown",
      "source": [
        "**The test accuracy of the baseline model is 46%.**"
      ],
      "metadata": {
        "id": "HNvpZFEZgQYW"
      }
    },
    {
      "cell_type": "markdown",
      "metadata": {
        "id": "QlHu0wxh1prP"
      },
      "source": [
        "### Part (c) [1 pt]\n",
        "\n",
        "How does your test accuracy from part (a) compared to your basline test accuracy in part (b)?"
      ]
    },
    {
      "cell_type": "markdown",
      "source": [
        "**The test accuracy of the autoencoder is 68%, which is significantly better than the 46% test accuracy of the baseline model.**"
      ],
      "metadata": {
        "id": "k7eZpKd3gnyZ"
      }
    },
    {
      "cell_type": "markdown",
      "metadata": {
        "id": "DfQPgu1Q1prS"
      },
      "source": [
        "### Part (d) [1 pt]\n",
        "\n",
        "Look at the first item in your test data.\n",
        "Do you think it is reasonable for a human\n",
        "to be able to guess this person's education level\n",
        "based on their other features? Explain."
      ]
    },
    {
      "cell_type": "code",
      "execution_count": 78,
      "metadata": {
        "colab": {
          "base_uri": "https://localhost:8080/",
          "height": 0
        },
        "collapsed": true,
        "id": "3qbQ1vvT1prT",
        "jupyter": {
          "outputs_hidden": true
        },
        "outputId": "768a7d76-6d94-44e3-cd78-a3b3de6f30f4"
      },
      "outputs": [
        {
          "output_type": "stream",
          "name": "stdout",
          "text": [
            "work: State-gov\n",
            "marriage: Married-civ-spouse\n",
            "occupation: Transport-moving\n",
            "edu: Some-college\n",
            "relationship: Husband\n",
            "sex: Male\n"
          ]
        }
      ],
      "source": [
        "for col in catcols:\n",
        "    print(col + \": \" + get_feature(test_data[0], col))"
      ]
    },
    {
      "cell_type": "markdown",
      "source": [
        "**In this case, yes.  Since this person's occupation is in transport-moving, which is a job that requires practical skills.  A human would predict some practical college where this person would have learned their occupation skills.**"
      ],
      "metadata": {
        "id": "P4NuJOzpiVb4"
      }
    },
    {
      "cell_type": "markdown",
      "metadata": {
        "id": "p_d5uuAY1prZ"
      },
      "source": [
        "### Part (e) [2 pt]\n",
        "\n",
        "What is your model's prediction of this person's education\n",
        "level, given their other features?\n"
      ]
    },
    {
      "cell_type": "code",
      "execution_count": 79,
      "metadata": {
        "colab": {
          "base_uri": "https://localhost:8080/",
          "height": 0
        },
        "id": "kBY5gKXR1pra",
        "jupyter": {
          "outputs_hidden": true
        },
        "outputId": "11d7d9d4-8a6d-43ea-a93c-c68d32a4da5f"
      },
      "outputs": [
        {
          "output_type": "stream",
          "name": "stdout",
          "text": [
            "Some-college\n"
          ]
        }
      ],
      "source": [
        "print(get_feature(auto_encoder_3(torch.tensor(test_data[0], dtype=torch.float32)).detach(), \"edu\"))"
      ]
    },
    {
      "cell_type": "markdown",
      "source": [
        "**The model's prediction of this person's education level is some-college.**"
      ],
      "metadata": {
        "id": "y-Aiz6KJkqeV"
      }
    },
    {
      "cell_type": "markdown",
      "metadata": {
        "id": "fdLNA0ce1prd"
      },
      "source": [
        "### Part (f) [2 pt]\n",
        "\n",
        "What is the baseline model's prediction\n",
        "of this person's education level?"
      ]
    },
    {
      "cell_type": "code",
      "execution_count": 80,
      "metadata": {
        "colab": {
          "base_uri": "https://localhost:8080/",
          "height": 0
        },
        "collapsed": true,
        "id": "TXgoM9qk1prd",
        "jupyter": {
          "outputs_hidden": true
        },
        "outputId": "97651227-9623-4470-d87f-83f23c108522"
      },
      "outputs": [
        {
          "output_type": "stream",
          "name": "stdout",
          "text": [
            "HS-grad\n"
          ]
        }
      ],
      "source": [
        "print(get_feature(baseline_model(torch.tensor(test_data[0], dtype=torch.float32).unsqueeze(0)).detach()[0], \"edu\"))"
      ]
    },
    {
      "cell_type": "markdown",
      "source": [
        "**The baseline model's prediction of this person's education level is high school graduate.  This is because high school degree is the most common education level in the education category of the training set.**"
      ],
      "metadata": {
        "id": "u5-hFyYPlph4"
      }
    }
  ],
  "metadata": {
    "colab": {
      "collapsed_sections": [
        "WKk01pwx1pq_",
        "SxCTlXoV1prB",
        "h9xTwIf51prF",
        "UEe9yt6L1prM",
        "QlHu0wxh1prP",
        "DfQPgu1Q1prS",
        "p_d5uuAY1prZ",
        "fdLNA0ce1prd"
      ],
      "provenance": [],
      "gpuType": "T4"
    },
    "kernelspec": {
      "display_name": "Python 3",
      "name": "python3"
    },
    "language_info": {
      "codemirror_mode": {
        "name": "ipython",
        "version": 3
      },
      "file_extension": ".py",
      "mimetype": "text/x-python",
      "name": "python",
      "nbconvert_exporter": "python",
      "pygments_lexer": "ipython3",
      "version": "3.9.4"
    },
    "accelerator": "GPU"
  },
  "nbformat": 4,
  "nbformat_minor": 0
}